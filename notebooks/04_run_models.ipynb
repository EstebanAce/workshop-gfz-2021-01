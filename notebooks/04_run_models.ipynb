{
 "cells": [
  {
   "cell_type": "markdown",
   "id": "familiar-kansas",
   "metadata": {},
   "source": [
    "# Xarray-simlab: run models and visualize outputs\n",
    "\n",
    "We'll see here how to:\n",
    "\n",
    "- setup and run one simulation\n",
    "- save and reuse simulation setups\n",
    "- set time-varying input values (external forcing)\n",
    "- save model variable snapshots at different time steps / time frequencies\n",
    "- save model snapshots to different stores (e.g., in-memory vs. on-disk) and save model outputs to a file\n",
    "- run simulation batches in parallel\n",
    "- leverage some xarray features for simulation pre/post-processing\n",
    "- visualize and compare (interactively) simulation outputs using xarray plotting features (built on top of matplotlib), hvplot (holoviews/bokeh) and ipyfastscape (ipywidgets)"
   ]
  },
  {
   "cell_type": "code",
   "execution_count": null,
   "id": "allied-eleven",
   "metadata": {},
   "outputs": [],
   "source": [
    "import numpy as np\n",
    "import xsimlab as xs\n",
    "import xarray as xr\n",
    "\n",
    "# visualization\n",
    "import matplotlib as plt\n",
    "import hvplot.xarray\n",
    "from ipyfastscape import TopoViz3d\n",
    "\n",
    "# ipython magic command\n",
    "%load_ext xsimlab.ipython"
   ]
  },
  {
   "cell_type": "markdown",
   "id": "engaging-isaac",
   "metadata": {},
   "source": [
    "## Setup a new simulation from scratch\n",
    "\n",
    "Let's import a fastscape model"
   ]
  },
  {
   "cell_type": "code",
   "execution_count": null,
   "id": "white-seafood",
   "metadata": {},
   "outputs": [],
   "source": [
    "from fastscape.models import basic_model"
   ]
  },
  {
   "cell_type": "markdown",
   "id": "mysterious-discrimination",
   "metadata": {},
   "source": [
    "When used in jupyter notebooks or consoles, xarray-simlab provides a convenient \"magic\" command `%create_setup` that can be used to generate some template code to help create a new setup for a given model. This template may be pre-filled with variables default values and/or some documentation (e.g., input description) as line comments.\n",
    "\n",
    "This template has to be filled with missing input values, \"clocks\" (i.e., coordinates for the simulation time steps and variable snapshot saving) and output variables. More details can be found in xarray-simlab's documentation."
   ]
  },
  {
   "cell_type": "code",
   "execution_count": null,
   "id": "backed-cabin",
   "metadata": {},
   "outputs": [],
   "source": [
    "# %create_setup basic_model\n",
    "import xsimlab as xs\n",
    "\n",
    "ds_in = xs.create_setup(\n",
    "    model=basic_model,\n",
    "    clocks={\n",
    "        'time': np.linspace(0., 1e6, 101),\n",
    "        'out': np.linspace(0., 1e6, 51)\n",
    "    },\n",
    "    master_clock='time',\n",
    "    input_vars={\n",
    "        'grid__shape': [101, 201],\n",
    "        'grid__length': [1e4, 2e4],\n",
    "        'boundary__status': ['looped', 'looped', 'fixed_value', 'fixed_value'],\n",
    "        'uplift__rate': 1e-3,\n",
    "        'spl__k_coef': 1e-4,\n",
    "        'diffusion__diffusivity': 1e-1,\n",
    "    },\n",
    "    output_vars={\n",
    "        'topography__elevation': 'out',\n",
    "        'drainage__area': 'out',\n",
    "        'flow__basin': 'out',\n",
    "        'spl__chi': 'out',\n",
    "    }\n",
    ")\n"
   ]
  },
  {
   "cell_type": "markdown",
   "id": "ecological-builder",
   "metadata": {},
   "source": [
    "The `xs.create_setup` function returns a new `xarray.Dataset` object. The latter contains the whole simulation setup (data + metadata) saved into a tidy data structure (see xarray's documentation for an overview of what can be done with xarray datasets)"
   ]
  },
  {
   "cell_type": "code",
   "execution_count": null,
   "id": "subjective-least",
   "metadata": {},
   "outputs": [],
   "source": [
    "ds_in"
   ]
  },
  {
   "cell_type": "markdown",
   "id": "common-tracker",
   "metadata": {},
   "source": [
    "### Save / load a simulation setup to / from a file\n",
    "\n",
    "The dataset created above can be saved to a netCDF file:"
   ]
  },
  {
   "cell_type": "code",
   "execution_count": null,
   "id": "animated-turkey",
   "metadata": {},
   "outputs": [],
   "source": [
    "ds_in.to_netcdf('sim_setup.nc')"
   ]
  },
  {
   "cell_type": "markdown",
   "id": "electronic-merit",
   "metadata": {},
   "source": [
    "This is useful when we want to reuse a simulation setup in a different context. NetCDF is a common, portable format used in geosciences."
   ]
  },
  {
   "cell_type": "code",
   "execution_count": null,
   "id": "dried-stretch",
   "metadata": {},
   "outputs": [],
   "source": [
    "ds_in_reloaded = xr.load_dataset('sim_setup.nc')\n",
    "\n",
    "ds_in_reloaded"
   ]
  },
  {
   "cell_type": "markdown",
   "id": "burning-courage",
   "metadata": {},
   "source": [
    "## Run a simulation\n",
    "\n",
    "Xarray-simlab provides an `.xsimlab` dataset \"accessor\" that extends its functionality with simulation specfic operations. Just use `.xsimlab.run()` applied on the input dataset created above. Note: it is important to provide the same xarray-simlab same model that has been used to create the input dataset."
   ]
  },
  {
   "cell_type": "code",
   "execution_count": null,
   "id": "concerned-packet",
   "metadata": {},
   "outputs": [],
   "source": [
    "ds_out = ds_in.xsimlab.run(model=basic_model)"
   ]
  },
  {
   "cell_type": "markdown",
   "id": "royal-railway",
   "metadata": {},
   "source": [
    "The model object can also be used as a \"context\" (i.e., using the `with` statement). In the code block of this context, it is not needed to set the `model` argument for the functions available in the `.xsimlab` dataset accessor."
   ]
  },
  {
   "cell_type": "code",
   "execution_count": null,
   "id": "sonic-level",
   "metadata": {},
   "outputs": [],
   "source": [
    "with basic_model:\n",
    "    ds_out = ds_in.xsimlab.run()"
   ]
  },
  {
   "cell_type": "markdown",
   "id": "comparative-russian",
   "metadata": {},
   "source": [
    "Xarray-simlab provides helpful tools for monitoring model runs, e.g., a progress bar (that can be used as a context too):"
   ]
  },
  {
   "cell_type": "code",
   "execution_count": null,
   "id": "daily-patch",
   "metadata": {},
   "outputs": [],
   "source": [
    "with basic_model, xs.monitoring.ProgressBar():\n",
    "    ds_out = ds_in.xsimlab.run()"
   ]
  },
  {
   "cell_type": "markdown",
   "id": "worldwide-relevance",
   "metadata": {},
   "source": [
    "`.xsimlab.run()` returns a new xarray Dataset object, with both model input and outputs:"
   ]
  },
  {
   "cell_type": "code",
   "execution_count": null,
   "id": "freelance-wages",
   "metadata": {},
   "outputs": [],
   "source": [
    "ds_out"
   ]
  },
  {
   "cell_type": "markdown",
   "id": "vulnerable-script",
   "metadata": {},
   "source": [
    "### Save simulation outputs to a file\n",
    "\n",
    "Like the input dataset, we can save the output dataset to a netCDF file."
   ]
  },
  {
   "cell_type": "code",
   "execution_count": null,
   "id": "express-street",
   "metadata": {},
   "outputs": [],
   "source": [
    "# the netcdf file format has some limitations on data format encodings\n",
    "# (needs an encoding fix in fastscape)\n",
    "ds_out['border'] = ds_out.coords['border'].astype('S6')\n",
    "\n",
    "ds_out.to_netcdf('sim_output.nc')"
   ]
  },
  {
   "cell_type": "markdown",
   "id": "experimental-lease",
   "metadata": {},
   "source": [
    "### Save simulation outputs to a (zarr) store as the simulation proceeds\n",
    "\n",
    "By default, all model output snapshots are saved into memory before returning it as a xarray Dataset. This might be problematic when running large models and/or saving snapshots very frequently (e.g., at each time step). Fortunately, Xarray-simlab may use alternative storage solutions for storing the outputs. This functionality is built on top of the [zarr](https://zarr.readthedocs.io) library, which provides many storage options like filesystem directories, databases, distributed cloud storage systems, etc. It also supports many compression options.\n",
    "\n",
    "In the example below, we store model output snapshots into a directory named `sim_output.zarr`:"
   ]
  },
  {
   "cell_type": "code",
   "execution_count": null,
   "id": "reflected-curve",
   "metadata": {},
   "outputs": [],
   "source": [
    "with basic_model, xs.monitoring.ProgressBar():\n",
    "    ds_out = ds_in.xsimlab.run(store='sim_output.zarr')"
   ]
  },
  {
   "cell_type": "markdown",
   "id": "certain-cincinnati",
   "metadata": {},
   "source": [
    "Let's inspect the model outputs saved in the zarr store:"
   ]
  },
  {
   "cell_type": "code",
   "execution_count": null,
   "id": "backed-welsh",
   "metadata": {},
   "outputs": [],
   "source": [
    "import zarr\n",
    "\n",
    "zdataset = zarr.open('sim_output.zarr')\n",
    "\n",
    "zdataset.info"
   ]
  },
  {
   "cell_type": "markdown",
   "id": "crude-alignment",
   "metadata": {},
   "source": [
    "The compression ratio is much better for the `flow__basin` output variable than for the `topography__elevation` variable. This is likely explained by the data value patterns on the grid."
   ]
  },
  {
   "cell_type": "code",
   "execution_count": null,
   "id": "analyzed-keyboard",
   "metadata": {},
   "outputs": [],
   "source": [
    "zdataset.flow__basin.info"
   ]
  },
  {
   "cell_type": "code",
   "execution_count": null,
   "id": "average-jonathan",
   "metadata": {},
   "outputs": [],
   "source": [
    "zdataset.topography__elevation.info"
   ]
  },
  {
   "cell_type": "markdown",
   "id": "signed-vector",
   "metadata": {},
   "source": [
    "At the end of the simulation, the zarr store is loaded back as a xarray dataset. Note that it is loaded \"lazily\" (no data is actually loaded in-memory). This allows dealing with large amount of data represented as \"logical\" data cubes."
   ]
  },
  {
   "cell_type": "code",
   "execution_count": null,
   "id": "former-berkeley",
   "metadata": {},
   "outputs": [],
   "source": [
    "ds_out"
   ]
  },
  {
   "cell_type": "markdown",
   "id": "instant-intelligence",
   "metadata": {},
   "source": [
    "The data is also chunked (dask arrays), which enables efficient operations (post-processing or visualization) computed in parallel. This is not always desirable, though. You can load the whole dataset in-memory, if it's not too large:"
   ]
  },
  {
   "cell_type": "code",
   "execution_count": null,
   "id": "healthy-drilling",
   "metadata": {},
   "outputs": [],
   "source": [
    "ds_out.nbytes / 1e6"
   ]
  },
  {
   "cell_type": "code",
   "execution_count": null,
   "id": "atlantic-broad",
   "metadata": {},
   "outputs": [],
   "source": [
    "# Ok, ~30 Mb is not very much\n",
    "\n",
    "ds_out.load()"
   ]
  },
  {
   "cell_type": "markdown",
   "id": "collaborative-finland",
   "metadata": {},
   "source": [
    "### Simulation outputs post-processing and visualization "
   ]
  },
  {
   "cell_type": "markdown",
   "id": "celtic-search",
   "metadata": {},
   "source": [
    "Xarray allows to easily and efficiently perform many kinds of operations on datasets (e.g., selection, filtering, arithmetics, aggregations, visualization, etc.)\n",
    "\n",
    "For example, let's select the last snapshot saved:"
   ]
  },
  {
   "cell_type": "code",
   "execution_count": null,
   "id": "civic-opening",
   "metadata": {},
   "outputs": [],
   "source": [
    "ds_out.isel(out=-1)"
   ]
  },
  {
   "cell_type": "markdown",
   "id": "brave-programmer",
   "metadata": {},
   "source": [
    "Or let's select the snashot based on a given simulation (absolute) time:"
   ]
  },
  {
   "cell_type": "code",
   "execution_count": null,
   "id": "administrative-oakland",
   "metadata": {},
   "outputs": [],
   "source": [
    "# nearest means select the nearest value\n",
    "# (otherwise, raises an error if no snapshot has been saved for the given time)\n",
    "ds_out.sel(out=5.3e5, method='nearest')"
   ]
  },
  {
   "cell_type": "markdown",
   "id": "approved-valuable",
   "metadata": {},
   "source": [
    "Let's plot the elevation data for the last snapshot:"
   ]
  },
  {
   "cell_type": "code",
   "execution_count": null,
   "id": "respected-collection",
   "metadata": {},
   "outputs": [],
   "source": [
    "ds_out.isel(out=-1).topography__elevation.plot(aspect=2, size=4);"
   ]
  },
  {
   "cell_type": "markdown",
   "id": "outdoor-tanzania",
   "metadata": {},
   "source": [
    "Let's plot several snapshots:"
   ]
  },
  {
   "cell_type": "code",
   "execution_count": null,
   "id": "removed-aquatic",
   "metadata": {},
   "outputs": [],
   "source": [
    "(\n",
    "    ds_out\n",
    "    .sel(out=[0., 2.5e5, 5e5, 1e6], method='nearest')\n",
    "    .topography__elevation\n",
    "    .plot(col='out', col_wrap=2, aspect=2, size=3)\n",
    ")"
   ]
  },
  {
   "cell_type": "markdown",
   "id": "sixth-expense",
   "metadata": {},
   "source": [
    "We can also extract cross-sections:"
   ]
  },
  {
   "cell_type": "code",
   "execution_count": null,
   "id": "trying-baltimore",
   "metadata": {},
   "outputs": [],
   "source": [
    "(\n",
    "    ds_out\n",
    "    .sel(x=[0., 1e4, 2e4])\n",
    "    .sel(out=[0., 2.5e5, 5e5, 1e6], method='nearest')\n",
    "    .topography__elevation\n",
    "    .plot(col='out', hue='x', col_wrap=2, aspect=1, size=3)\n",
    ")"
   ]
  },
  {
   "cell_type": "markdown",
   "id": "ranging-token",
   "metadata": {},
   "source": [
    "For interactive plots, we can use the hvplot library:"
   ]
  },
  {
   "cell_type": "code",
   "execution_count": null,
   "id": "correct-fancy",
   "metadata": {},
   "outputs": [],
   "source": [
    "ds_out.topography__elevation.hvplot(x='x', y='y', groupby='out', data_aspect=1)"
   ]
  },
  {
   "cell_type": "code",
   "execution_count": null,
   "id": "skilled-landing",
   "metadata": {},
   "outputs": [],
   "source": [
    "(\n",
    "    ds_out\n",
    "    .sel(x=[0., 1e4, 2e4])\n",
    "    .sel(out=[0., 2.5e5, 5e5, 1e6], method='nearest')\n",
    "    .topography__elevation\n",
    "    .hvplot(x='y', groupby='out', by='x', aspect=2, ylim=[0, 400])\n",
    ")"
   ]
  },
  {
   "cell_type": "markdown",
   "id": "embedded-summary",
   "metadata": {},
   "source": [
    "For 3D visualization, we can use the ipyfastscape library that provides an interface similar to Paraview."
   ]
  },
  {
   "cell_type": "code",
   "execution_count": null,
   "id": "fewer-advantage",
   "metadata": {},
   "outputs": [],
   "source": [
    "app = TopoViz3d(ds_out, time_dim='out')\n",
    "\n",
    "app.show()"
   ]
  },
  {
   "cell_type": "markdown",
   "id": "recreational-north",
   "metadata": {},
   "source": [
    "## Reuse previous simulation settings for running new simulations\n",
    "\n",
    "It is possible to run new simulations by slightly changing existing settings, without the need to create a whole new setup from scratch. The `.xsimlab` dataset accessor has useful functions for that.\n",
    "\n",
    "Let's change the SPL's $K$ coefficient value used in the previous simulations:"
   ]
  },
  {
   "cell_type": "code",
   "execution_count": null,
   "id": "answering-tyler",
   "metadata": {},
   "outputs": [],
   "source": [
    "ds_in_k_double = ds_in.xsimlab.update_vars(\n",
    "    model=basic_model,\n",
    "    input_vars={'spl__k_coef': ds_in.spl__k_coef * 2}\n",
    ")\n",
    "\n",
    "ds_in_k_double"
   ]
  },
  {
   "cell_type": "markdown",
   "id": "surgical-document",
   "metadata": {},
   "source": [
    "`.xsimlab.update_vars()` returns a new Dataset object. It is also possible to use that function for updating the output variables. Similarly, the `.xsimlab.update_clocks()` allows to set new time steps or model snapshot saving times.\n",
    "\n",
    "We can easily chain `.xsimlab` functions so that we don't need to create intermediate datasets if that's not needed, e.g.,"
   ]
  },
  {
   "cell_type": "code",
   "execution_count": null,
   "id": "blocked-luxury",
   "metadata": {},
   "outputs": [],
   "source": [
    "with basic_model, xs.monitoring.ProgressBar():\n",
    "    ds_out_k_double = (\n",
    "        ds_in\n",
    "        .xsimlab.update_vars(input_vars={'spl__k_coef': ds_in.spl__k_coef * 2})\n",
    "        .xsimlab.run()\n",
    "    )   "
   ]
  },
  {
   "cell_type": "markdown",
   "id": "continued-initial",
   "metadata": {},
   "source": [
    "Let's visualize the results:"
   ]
  },
  {
   "cell_type": "code",
   "execution_count": null,
   "id": "established-processor",
   "metadata": {},
   "outputs": [],
   "source": [
    "app = TopoViz3d(ds_out_k_double, time_dim='out')\n",
    "app.show()"
   ]
  },
  {
   "cell_type": "markdown",
   "id": "advised-range",
   "metadata": {},
   "source": [
    "We can also reuse existing settings with another model:"
   ]
  },
  {
   "cell_type": "code",
   "execution_count": null,
   "id": "terminal-rebate",
   "metadata": {},
   "outputs": [],
   "source": [
    "from fastscape.processes import MultipleFlowRouter\n",
    "\n",
    "mfd_model = basic_model.update_processes({'flow': MultipleFlowRouter})\n",
    "\n",
    "mfd_model"
   ]
  },
  {
   "cell_type": "code",
   "execution_count": null,
   "id": "split-manner",
   "metadata": {},
   "outputs": [],
   "source": [
    "with mfd_model, xs.monitoring.ProgressBar():\n",
    "    ds_out_k_double_mfd = (\n",
    "        ds_in_k_double\n",
    "        .xsimlab.update_vars(input_vars={'flow__slope_exp': 0.})\n",
    "        .xsimlab.run()\n",
    "    )"
   ]
  },
  {
   "cell_type": "code",
   "execution_count": null,
   "id": "rational-textbook",
   "metadata": {},
   "outputs": [],
   "source": [
    "app2 = TopoViz3d(ds_out_k_double_mfd, time_dim='out')\n",
    "app2.show()"
   ]
  },
  {
   "cell_type": "markdown",
   "id": "existing-reservation",
   "metadata": {},
   "source": [
    "## Compare model runs\n",
    "\n",
    "Ipyfastscape has nice features to compare model runs side by side (it's built on top of a graphical widget system that is very flexible!) "
   ]
  },
  {
   "cell_type": "code",
   "execution_count": null,
   "id": "acknowledged-sudan",
   "metadata": {},
   "outputs": [],
   "source": [
    "# show drainage area for the visualization of the two previous model runs\n",
    "\n",
    "for a in [app, app2]:\n",
    "    a.components['coloring'].set_color_var('drainage__area')\n",
    "    a.components['coloring'].set_colormap('Blues')\n",
    "    a.components['coloring'].set_color_scale(log=True)"
   ]
  },
  {
   "cell_type": "code",
   "execution_count": null,
   "id": "arctic-inspector",
   "metadata": {},
   "outputs": [],
   "source": [
    "import ipywidgets\n",
    "\n",
    "ipywidgets.HBox([app.canvas_output, app2.canvas_output])"
   ]
  },
  {
   "cell_type": "code",
   "execution_count": null,
   "id": "premium-yemen",
   "metadata": {},
   "outputs": [],
   "source": [
    "app.components['timestepper'].widget"
   ]
  },
  {
   "cell_type": "code",
   "execution_count": null,
   "id": "possible-norman",
   "metadata": {},
   "outputs": [],
   "source": [
    "from ipyfastscape import AppLinker\n",
    "\n",
    "linker = AppLinker([app, app2])\n",
    "linker.show()\n"
   ]
  },
  {
   "cell_type": "markdown",
   "id": "lucky-domain",
   "metadata": {},
   "source": [
    "## Set time-varying input values\n",
    "\n",
    "Excepted for some model variables (e.g., \"static\" variables such as grid size if the model grid is fixed), any model input may accept a time dimension (i.e., the dimension label must correspond to the master clock), which is useful for imposing external forcing.\n",
    "\n",
    "Let's create a time series for the SPL's $K$ coefficient, where it's value abruptly changes in the middle of the simulation. We can do this easily with xarray:"
   ]
  },
  {
   "cell_type": "code",
   "execution_count": null,
   "id": "historic-discussion",
   "metadata": {},
   "outputs": [],
   "source": [
    "spl_k_time = ds_in.spl__k_coef.where(ds_in.time < 5e5, ds_in.spl__k_coef * 2)"
   ]
  },
  {
   "cell_type": "markdown",
   "id": "fleet-january",
   "metadata": {},
   "source": [
    "`spl_k_time` is a xarray DataArray object:"
   ]
  },
  {
   "cell_type": "code",
   "execution_count": null,
   "id": "olive-atmosphere",
   "metadata": {},
   "outputs": [],
   "source": [
    "spl_k_time"
   ]
  },
  {
   "cell_type": "markdown",
   "id": "religious-bacteria",
   "metadata": {},
   "source": [
    "We can easily plot the time series:"
   ]
  },
  {
   "cell_type": "code",
   "execution_count": null,
   "id": "german-singer",
   "metadata": {},
   "outputs": [],
   "source": [
    "spl_k_time.plot();"
   ]
  },
  {
   "cell_type": "markdown",
   "id": "hollow-belief",
   "metadata": {},
   "source": [
    "We can just use it for running a new simulation:"
   ]
  },
  {
   "cell_type": "code",
   "execution_count": null,
   "id": "right-celtic",
   "metadata": {},
   "outputs": [],
   "source": [
    "with basic_model, xs.monitoring.ProgressBar():\n",
    "    ds_out_k_time = (\n",
    "        ds_in\n",
    "        .xsimlab.update_vars(input_vars={'spl__k_coef': spl_k_time})\n",
    "        .xsimlab.run()\n",
    "    )"
   ]
  },
  {
   "cell_type": "markdown",
   "id": "convinced-onion",
   "metadata": {},
   "source": [
    "Let's check the results:"
   ]
  },
  {
   "cell_type": "code",
   "execution_count": null,
   "id": "confirmed-guard",
   "metadata": {},
   "outputs": [],
   "source": [
    "app3 = TopoViz3d(ds_out_k_time, time_dim='out')\n",
    "app3.show()"
   ]
  },
  {
   "cell_type": "markdown",
   "id": "attempted-gregory",
   "metadata": {},
   "source": [
    "## Exercise: effect of erosion parameters on domain-integrated sediment fluxes\n",
    "\n",
    "- Re-run a new simulation with time varying erosion coefficients. Save snapshots for the erosion rate (all processes)\n",
    "- Compute the erosion rate integrated over the whole domain using xarray (you can get the grid total area as a model output so you don't need to recalculate it)\n",
    "- Plot time series for both the erosion coefficients and the sediment fluxes, using xarray's plotting functions"
   ]
  },
  {
   "cell_type": "markdown",
   "id": "satellite-republic",
   "metadata": {},
   "source": [
    "## Run simulation batches\n",
    "\n",
    "Xarray-simlab allows running simulation batches in parallel, e.g., for exploring the effect of multiple parameter values (or combinaisons or parameter values). The parallel execution is handled by the dask library (https://dask.org/), which is very well integrated with libraries such as numpy, xarray and zarr.\n",
    "\n",
    "Let's run simulations for multiple values of SPL's $K$ coefficient:"
   ]
  },
  {
   "cell_type": "code",
   "execution_count": null,
   "id": "fleet-roots",
   "metadata": {},
   "outputs": [],
   "source": [
    "# we need a different progress bar\n",
    "from dask.diagnostics import ProgressBar as DaskProgressBar"
   ]
  },
  {
   "cell_type": "code",
   "execution_count": null,
   "id": "assigned-party",
   "metadata": {},
   "outputs": [],
   "source": [
    "with basic_model, DaskProgressBar():\n",
    "    ds_out_k_multi = (\n",
    "        ds_in\n",
    "        .xsimlab.update_vars(input_vars={'spl__k_coef': ('batch', [1e-4, 2e-4, 3e-4])})\n",
    "        .xsimlab.run(batch_dim='batch', parallel=True, scheduler='processes', store='batch_output.zarr')\n",
    "    )"
   ]
  },
  {
   "cell_type": "code",
   "execution_count": null,
   "id": "recognized-macro",
   "metadata": {},
   "outputs": [],
   "source": [
    "ds_out_k_multi"
   ]
  },
  {
   "cell_type": "markdown",
   "id": "fitted-consumption",
   "metadata": {},
   "source": [
    "**Note that it has limitations**: Dask and zarr are both very flexible libraries, and parallel computing is not an easy problem. We must be careful:\n",
    "\n",
    "- Fastscape is currently not thread-safe (you can run multiple simulations simultaeously on different threads), we must use Dask's process (or distributed) scheduler.\n",
    "- We have to use a Zarr store that is compatible with running the simulations in different processes. The default, in-memory store is not compatible, so we need to use a directory store."
   ]
  },
  {
   "cell_type": "markdown",
   "id": "narrow-parliament",
   "metadata": {},
   "source": [
    "## Advanced setup and visualization\n",
    "\n",
    "Let's do something more advanced.\n",
    "\n",
    "We can create multiple time-series for SPL's $K$ coefficient:"
   ]
  },
  {
   "cell_type": "code",
   "execution_count": null,
   "id": "convertible-diameter",
   "metadata": {},
   "outputs": [],
   "source": [
    "spl_k_time_multi = xr.concat([spl_k_time, spl_k_time * 2, spl_k_time * 3], 'batch')\n",
    "\n",
    "spl_k_time_multi"
   ]
  },
  {
   "cell_type": "code",
   "execution_count": null,
   "id": "functional-exhibition",
   "metadata": {},
   "outputs": [],
   "source": [
    "spl_k_time_multi.plot(col='batch')"
   ]
  },
  {
   "cell_type": "markdown",
   "id": "decent-snapshot",
   "metadata": {},
   "source": [
    "And just reuse it to run a new batch of simulations"
   ]
  },
  {
   "cell_type": "code",
   "execution_count": null,
   "id": "thermal-facing",
   "metadata": {},
   "outputs": [],
   "source": [
    "with basic_model, DaskProgressBar():\n",
    "    ds_out_k_time_multi = (\n",
    "        ds_in\n",
    "        .xsimlab.update_vars(input_vars={'spl__k_coef': spl_k_time_multi})\n",
    "        .xsimlab.run(batch_dim='batch', parallel=True, scheduler='processes', store='batch_output2.zarr')\n",
    "    )"
   ]
  },
  {
   "cell_type": "code",
   "execution_count": null,
   "id": "indirect-mustang",
   "metadata": {},
   "outputs": [],
   "source": [
    "ds_out_k_time_multi"
   ]
  },
  {
   "cell_type": "markdown",
   "id": "indonesian-wrist",
   "metadata": {},
   "source": [
    "Let's visualize it:"
   ]
  },
  {
   "cell_type": "code",
   "execution_count": null,
   "id": "accurate-physiology",
   "metadata": {},
   "outputs": [],
   "source": [
    "app4 = TopoViz3d(ds_out_k_time_multi.load(), time_dim='out')\n",
    "app4.show()"
   ]
  },
  {
   "cell_type": "markdown",
   "id": "individual-timing",
   "metadata": {},
   "source": [
    "We can also compare model runs for different parameter values, side by side:"
   ]
  },
  {
   "cell_type": "code",
   "execution_count": null,
   "id": "amber-uzbekistan",
   "metadata": {},
   "outputs": [],
   "source": [
    "app5 = TopoViz3d(ds_out_k_time_multi, time_dim='out')\n",
    "\n",
    "ipywidgets.HBox([app4.canvas_output, app5.canvas_output])"
   ]
  },
  {
   "cell_type": "code",
   "execution_count": null,
   "id": "specified-gambling",
   "metadata": {},
   "outputs": [],
   "source": [
    "ipywidgets.HBox([app4.components['dimensions'].widget, app5.components['dimensions'].widget])"
   ]
  },
  {
   "cell_type": "code",
   "execution_count": null,
   "id": "fatty-manhattan",
   "metadata": {},
   "outputs": [],
   "source": [
    "app4.components['timestepper'].widget"
   ]
  },
  {
   "cell_type": "code",
   "execution_count": null,
   "id": "orange-hybrid",
   "metadata": {},
   "outputs": [],
   "source": [
    "linker45 = AppLinker([app4, app5])\n",
    "linker45.show()"
   ]
  },
  {
   "cell_type": "code",
   "execution_count": null,
   "id": "preceding-conclusion",
   "metadata": {},
   "outputs": [],
   "source": [
    "for a in [app4, app5]:\n",
    "    a.components['vertical_exaggeration'].set_factor(10)\n",
    "    a.components['coloring'].set_color_var('drainage__area')\n",
    "    a.components['coloring'].set_colormap('Blues')\n",
    "    a.components['coloring'].set_color_scale(log=True)"
   ]
  },
  {
   "cell_type": "markdown",
   "id": "hawaiian-drink",
   "metadata": {},
   "source": [
    "## Exercise: leverage xarray's n-dimensional datasets\n",
    "\n",
    "- set and run a batch of simulations for different (array) values of SPL's K coefficient\n",
    "- for each simulation, K must be variable in both space and time\n",
    "   - the input variable for K should have 4 dimensions: 'batch', 'x', 'y', 'time'\n",
    "- plot the values of K with xarray (facetting)\n",
    "- compare the model runs with hvplot or ipyfastscaoe"
   ]
  },
  {
   "cell_type": "code",
   "execution_count": null,
   "id": "tribal-fiber",
   "metadata": {},
   "outputs": [],
   "source": []
  }
 ],
 "metadata": {
  "kernelspec": {
   "display_name": "Python 3",
   "language": "python",
   "name": "python3"
  },
  "language_info": {
   "codemirror_mode": {
    "name": "ipython",
    "version": 3
   },
   "file_extension": ".py",
   "mimetype": "text/x-python",
   "name": "python",
   "nbconvert_exporter": "python",
   "pygments_lexer": "ipython3",
   "version": "3.8.6"
  }
 },
 "nbformat": 4,
 "nbformat_minor": 5
}
