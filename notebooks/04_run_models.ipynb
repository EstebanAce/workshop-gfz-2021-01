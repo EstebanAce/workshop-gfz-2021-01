{
 "cells": [
  {
   "cell_type": "markdown",
   "id": "growing-alignment",
   "metadata": {},
   "source": [
    "# Xarray-simlab: run models and visualize outputs\n",
    "\n",
    "We'll see here how to:\n",
    "\n",
    "- setup and run one simulation\n",
    "- save and reuse simulation setups\n",
    "- set time-varying input values (external forcing)\n",
    "- save model variable snapshots at different time steps / time frequencies\n",
    "- save model snapshots to different stores (e.g., in-memory vs. on-disk) and save model outputs to a file\n",
    "- run simulation batches in parallel\n",
    "- leverage some xarray features for simulation pre/post-processing\n",
    "- visualize and compare (interactively) simulation outputs using xarray plotting features (built on top of matplotlib), hvplot (holoviews/bokeh) and ipyfastscape (ipywidgets)"
   ]
  },
  {
   "cell_type": "code",
   "execution_count": null,
   "id": "referenced-guyana",
   "metadata": {},
   "outputs": [],
   "source": [
    "import numpy as np\n",
    "import xsimlab as xs\n",
    "import xarray as xr\n",
    "\n",
    "# visualization\n",
    "import matplotlib as plt\n",
    "import hvplot.xarray\n",
    "from ipyfastscape import TopoViz3d\n",
    "\n",
    "# ipython magic command\n",
    "%load_ext xsimlab.ipython"
   ]
  },
  {
   "cell_type": "markdown",
   "id": "worst-consistency",
   "metadata": {},
   "source": [
    "## Setup a new simulation from scratch\n",
    "\n",
    "Let's import a fastscape model"
   ]
  },
  {
   "cell_type": "code",
   "execution_count": null,
   "id": "biological-antigua",
   "metadata": {},
   "outputs": [],
   "source": [
    "from fastscape.models import basic_model"
   ]
  },
  {
   "cell_type": "markdown",
   "id": "bridal-salem",
   "metadata": {},
   "source": [
    "When used in jupyter notebooks or consoles, xarray-simlab provides a convenient \"magic\" command `%create_setup` that can be used to generate some template code to help create a new setup for a given model. This template may be pre-filled with variables default values and/or some documentation (e.g., input description) as line comments.\n",
    "\n",
    "This template has to be filled with missing input values, \"clocks\" (i.e., coordinates for the simulation time steps and variable snapshot saving) and output variables. More details can be found in xarray-simlab's documentation."
   ]
  },
  {
   "cell_type": "code",
   "execution_count": null,
   "id": "steady-spank",
   "metadata": {},
   "outputs": [],
   "source": [
    "# %create_setup basic_model\n",
    "import xsimlab as xs\n",
    "\n",
    "ds_in = xs.create_setup(\n",
    "    model=basic_model,\n",
    "    clocks={\n",
    "        'time': np.linspace(0., 1e6, 101),\n",
    "        'out': np.linspace(0., 1e6, 51)\n",
    "    },\n",
    "    master_clock='time',\n",
    "    input_vars={\n",
    "        'grid__shape': [101, 201],\n",
    "        'grid__length': [1e4, 2e4],\n",
    "        'boundary__status': ['looped', 'looped', 'fixed_value', 'fixed_value'],\n",
    "        'uplift__rate': 1e-3,\n",
    "        'spl__k_coef': 1e-4,\n",
    "        'diffusion__diffusivity': 1e-1,\n",
    "    },\n",
    "    output_vars={\n",
    "        'topography__elevation': 'out',\n",
    "        'drainage__area': 'out',\n",
    "        'flow__basin': 'out',\n",
    "        'spl__chi': 'out',\n",
    "    }\n",
    ")\n"
   ]
  },
  {
   "cell_type": "markdown",
   "id": "going-intelligence",
   "metadata": {},
   "source": [
    "The `xs.create_setup` function returns a new `xarray.Dataset` object. The latter contains the whole simulation setup (data + metadata) saved into a tidy data structure (see xarray's documentation for an overview of what can be done with xarray datasets)"
   ]
  },
  {
   "cell_type": "code",
   "execution_count": null,
   "id": "plastic-phoenix",
   "metadata": {},
   "outputs": [],
   "source": [
    "ds_in"
   ]
  },
  {
   "cell_type": "markdown",
   "id": "consolidated-august",
   "metadata": {},
   "source": [
    "### Save / load a simulation setup to / from a file\n",
    "\n",
    "The dataset created above can be saved to a netCDF file:"
   ]
  },
  {
   "cell_type": "code",
   "execution_count": null,
   "id": "boolean-greece",
   "metadata": {},
   "outputs": [],
   "source": [
    "ds_in.to_netcdf('sim_setup.nc')"
   ]
  },
  {
   "cell_type": "markdown",
   "id": "sharing-herald",
   "metadata": {},
   "source": [
    "This is useful when we want to reuse a simulation setup in a different context. NetCDF is a common, portable format used in geosciences."
   ]
  },
  {
   "cell_type": "code",
   "execution_count": null,
   "id": "figured-actress",
   "metadata": {},
   "outputs": [],
   "source": [
    "ds_in_reloaded = xr.load_dataset('sim_setup.nc')\n",
    "\n",
    "ds_in_reloaded"
   ]
  },
  {
   "cell_type": "markdown",
   "id": "regulation-sending",
   "metadata": {},
   "source": [
    "## Run a simulation\n",
    "\n",
    "Xarray-simlab provides an `.xsimlab` dataset \"accessor\" that extends its functionality with simulation specfic operations. Just use `.xsimlab.run()` applied on the input dataset created above. Note: it is important to provide the same xarray-simlab same model that has been used to create the input dataset."
   ]
  },
  {
   "cell_type": "code",
   "execution_count": null,
   "id": "hidden-fitness",
   "metadata": {},
   "outputs": [],
   "source": [
    "ds_out = ds_in.xsimlab.run(model=basic_model)"
   ]
  },
  {
   "cell_type": "markdown",
   "id": "frank-article",
   "metadata": {},
   "source": [
    "The model object can also be used as a \"context\" (i.e., using the `with` statement). In the code block of this context, it is not needed to set the `model` argument for the functions available in the `.xsimlab` dataset accessor."
   ]
  },
  {
   "cell_type": "code",
   "execution_count": null,
   "id": "blessed-disposition",
   "metadata": {},
   "outputs": [],
   "source": [
    "with basic_model:\n",
    "    ds_out = ds_in.xsimlab.run()"
   ]
  },
  {
   "cell_type": "markdown",
   "id": "invisible-briefs",
   "metadata": {},
   "source": [
    "Xarray-simlab provides helpful tools for monitoring model runs, e.g., a progress bar (that can be used as a context too):"
   ]
  },
  {
   "cell_type": "code",
   "execution_count": null,
   "id": "abstract-confusion",
   "metadata": {},
   "outputs": [],
   "source": [
    "with basic_model, xs.monitoring.ProgressBar():\n",
    "    ds_out = ds_in.xsimlab.run()"
   ]
  },
  {
   "cell_type": "markdown",
   "id": "cellular-cologne",
   "metadata": {},
   "source": [
    "`.xsimlab.run()` returns a new xarray Dataset object, with both model input and outputs:"
   ]
  },
  {
   "cell_type": "code",
   "execution_count": null,
   "id": "treated-schedule",
   "metadata": {},
   "outputs": [],
   "source": [
    "ds_out"
   ]
  },
  {
   "cell_type": "markdown",
   "id": "alpine-scratch",
   "metadata": {},
   "source": [
    "### Save simulation outputs to a file\n",
    "\n",
    "Like the input dataset, we can save the output dataset to a netCDF file."
   ]
  },
  {
   "cell_type": "code",
   "execution_count": null,
   "id": "addressed-netscape",
   "metadata": {},
   "outputs": [],
   "source": [
    "# the netcdf file format has some limitations on data format encodings\n",
    "# (needs an encoding fix in fastscape)\n",
    "ds_out['border'] = ds_out.coords['border'].astype('S6')\n",
    "\n",
    "ds_out.to_netcdf('sim_output.nc')"
   ]
  },
  {
   "cell_type": "markdown",
   "id": "balanced-forestry",
   "metadata": {},
   "source": [
    "### Save simulation outputs to a (zarr) store as the simulation proceeds\n",
    "\n",
    "By default, all model output snapshots are saved into memory before returning it as a xarray Dataset. This might be problematic when running large models and/or saving snapshots very frequently (e.g., at each time step). Fortunately, Xarray-simlab may use alternative storage solutions for storing the outputs. This functionality is built on top of the [zarr](https://zarr.readthedocs.io) library, which provides many storage options like filesystem directories, databases, distributed cloud storage systems, etc. It also supports many compression options.\n",
    "\n",
    "In the example below, we store model output snapshots into a directory named `sim_output.zarr`:"
   ]
  },
  {
   "cell_type": "code",
   "execution_count": null,
   "id": "cellular-instrumentation",
   "metadata": {},
   "outputs": [],
   "source": [
    "with basic_model, xs.monitoring.ProgressBar():\n",
    "    ds_out = ds_in.xsimlab.run(store='sim_output.zarr')"
   ]
  },
  {
   "cell_type": "markdown",
   "id": "temporal-personal",
   "metadata": {},
   "source": [
    "Let's inspect the model outputs saved in the zarr store:"
   ]
  },
  {
   "cell_type": "code",
   "execution_count": null,
   "id": "maritime-dependence",
   "metadata": {},
   "outputs": [],
   "source": [
    "import zarr\n",
    "\n",
    "zdataset = zarr.open('sim_output.zarr')\n",
    "\n",
    "zdataset.info"
   ]
  },
  {
   "cell_type": "markdown",
   "id": "drawn-cherry",
   "metadata": {},
   "source": [
    "The compression ratio is much better for the `flow__basin` output variable than for the `topography__elevation` variable. This is likely explained by the data value patterns on the grid."
   ]
  },
  {
   "cell_type": "code",
   "execution_count": null,
   "id": "vocal-warehouse",
   "metadata": {},
   "outputs": [],
   "source": [
    "zdataset.flow__basin.info"
   ]
  },
  {
   "cell_type": "code",
   "execution_count": null,
   "id": "efficient-radiation",
   "metadata": {},
   "outputs": [],
   "source": [
    "zdataset.topography__elevation.info"
   ]
  },
  {
   "cell_type": "markdown",
   "id": "southern-voice",
   "metadata": {},
   "source": [
    "At the end of the simulation, the zarr store is loaded back as a xarray dataset. Note that it is loaded \"lazily\" (no data is actually loaded in-memory). This allows dealing with large amount of data represented as \"logical\" data cubes."
   ]
  },
  {
   "cell_type": "code",
   "execution_count": null,
   "id": "optimum-wales",
   "metadata": {},
   "outputs": [],
   "source": [
    "ds_out"
   ]
  },
  {
   "cell_type": "markdown",
   "id": "prescription-interview",
   "metadata": {},
   "source": [
    "The data is also chunked (dask arrays), which enables efficient operations (post-processing or visualization) computed in parallel. This is not always desirable, though. You can load the whole dataset in-memory, if it's not too large:"
   ]
  },
  {
   "cell_type": "code",
   "execution_count": null,
   "id": "initial-river",
   "metadata": {},
   "outputs": [],
   "source": [
    "ds_out.nbytes / 1e6"
   ]
  },
  {
   "cell_type": "code",
   "execution_count": null,
   "id": "italian-looking",
   "metadata": {},
   "outputs": [],
   "source": [
    "# Ok, ~30 Mb is not very much\n",
    "\n",
    "ds_out.load()"
   ]
  },
  {
   "cell_type": "markdown",
   "id": "protected-memorial",
   "metadata": {},
   "source": [
    "### Simulation outputs post-processing and visualization "
   ]
  },
  {
   "cell_type": "markdown",
   "id": "romantic-benefit",
   "metadata": {},
   "source": [
    "Xarray allows to easily and efficiently perform many kinds of operations on datasets (e.g., selection, filtering, arithmetics, aggregations, visualization, etc.)\n",
    "\n",
    "For example, let's select the last snapshot saved:"
   ]
  },
  {
   "cell_type": "code",
   "execution_count": null,
   "id": "overhead-republic",
   "metadata": {},
   "outputs": [],
   "source": [
    "ds_out.isel(out=-1)"
   ]
  },
  {
   "cell_type": "markdown",
   "id": "silent-heating",
   "metadata": {},
   "source": [
    "Or let's select the snashot based on a given simulation (absolute) time:"
   ]
  },
  {
   "cell_type": "code",
   "execution_count": null,
   "id": "beneficial-claim",
   "metadata": {},
   "outputs": [],
   "source": [
    "# nearest means select the nearest value\n",
    "# (otherwise, raises an error if no snapshot has been saved for the given time)\n",
    "ds_out.sel(out=5.3e5, method='nearest')"
   ]
  },
  {
   "cell_type": "markdown",
   "id": "characteristic-guide",
   "metadata": {},
   "source": [
    "Let's plot the elevation data for the last snapshot:"
   ]
  },
  {
   "cell_type": "code",
   "execution_count": null,
   "id": "tracked-tokyo",
   "metadata": {},
   "outputs": [],
   "source": [
    "ds_out.isel(out=-1).topography__elevation.plot(aspect=2, size=4);"
   ]
  },
  {
   "cell_type": "markdown",
   "id": "accessible-nancy",
   "metadata": {},
   "source": [
    "Let's plot several snapshots:"
   ]
  },
  {
   "cell_type": "code",
   "execution_count": null,
   "id": "after-melissa",
   "metadata": {},
   "outputs": [],
   "source": [
    "(\n",
    "    ds_out\n",
    "    .sel(out=[0., 2.5e5, 5e5, 1e6], method='nearest')\n",
    "    .topography__elevation\n",
    "    .plot(col='out', col_wrap=2, aspect=2, size=3)\n",
    ")"
   ]
  },
  {
   "cell_type": "markdown",
   "id": "revised-settlement",
   "metadata": {},
   "source": [
    "We can also extract cross-sections:"
   ]
  },
  {
   "cell_type": "code",
   "execution_count": null,
   "id": "compliant-singapore",
   "metadata": {},
   "outputs": [],
   "source": [
    "(\n",
    "    ds_out\n",
    "    .sel(x=[0., 1e4, 2e4])\n",
    "    .sel(out=[0., 2.5e5, 5e5, 1e6], method='nearest')\n",
    "    .topography__elevation\n",
    "    .plot(col='out', hue='x', col_wrap=2, aspect=1, size=3)\n",
    ")"
   ]
  },
  {
   "cell_type": "markdown",
   "id": "looking-guest",
   "metadata": {},
   "source": [
    "For interactive plots, we can use the hvplot library:"
   ]
  },
  {
   "cell_type": "code",
   "execution_count": null,
   "id": "awful-doctrine",
   "metadata": {},
   "outputs": [],
   "source": [
    "ds_out.topography__elevation.hvplot(x='x', y='y', groupby='out', data_aspect=1)"
   ]
  },
  {
   "cell_type": "code",
   "execution_count": null,
   "id": "severe-update",
   "metadata": {},
   "outputs": [],
   "source": [
    "(\n",
    "    ds_out\n",
    "    .sel(x=[0., 1e4, 2e4])\n",
    "    .sel(out=[0., 2.5e5, 5e5, 1e6], method='nearest')\n",
    "    .topography__elevation\n",
    "    .hvplot(x='y', groupby='out', by='x', aspect=2, ylim=[0, 400])\n",
    ")"
   ]
  },
  {
   "cell_type": "markdown",
   "id": "future-consultation",
   "metadata": {},
   "source": [
    "For 3D visualization, we can use the ipyfastscape library that provides an interface similar to Paraview."
   ]
  },
  {
   "cell_type": "code",
   "execution_count": null,
   "id": "integrated-brave",
   "metadata": {},
   "outputs": [],
   "source": [
    "app = TopoViz3d(ds_out, time_dim='out')\n",
    "\n",
    "app.show()"
   ]
  },
  {
   "cell_type": "markdown",
   "id": "cardiovascular-freeze",
   "metadata": {},
   "source": [
    "## Reuse previous simulation settings for running new simulations\n",
    "\n",
    "- update input vars (just a new value for one input)\n",
    "- update the model used (use MultipleFlowRouter)"
   ]
  },
  {
   "cell_type": "markdown",
   "id": "impaired-mounting",
   "metadata": {},
   "source": [
    "## Set time-varying input values\n",
    "\n",
    "- example with k_coef"
   ]
  },
  {
   "cell_type": "markdown",
   "id": "above-briefs",
   "metadata": {},
   "source": [
    "## Exercise: effect of erosion magnitude on domain-integrated sediment fluxes\n",
    "\n",
    "- Re-run a new simulation with time varying erosion coefficients. Save snapshots for the erosion rate (all processes)\n",
    "- Compute the erosion rate integrated over the whole domain using xarray (you can get the grid total area as a model output so you don't need to recalculate it)\n",
    "- Plot time series for both the erosion coefficients and the sediment fluxes, using xarray's plotting functions"
   ]
  },
  {
   "cell_type": "markdown",
   "id": "special-gabriel",
   "metadata": {},
   "source": [
    "## Run simulation batches\n",
    "\n",
    "- Multiple values for k_coef\n",
    "\n"
   ]
  },
  {
   "cell_type": "markdown",
   "id": "fatal-pantyhose",
   "metadata": {},
   "source": [
    "### Compare model runs"
   ]
  },
  {
   "cell_type": "markdown",
   "id": "north-squad",
   "metadata": {},
   "source": [
    "## Exercise: leverage xarray's n-dimensional datasets\n",
    "\n",
    "- set and run a batch of simulations for different (array) values of SPL's K coefficient\n",
    "- for each simulation, K must be variable in both space and time\n",
    "   - the input variable for K should have 4 dimensions: 'batch', 'x', 'y', 'time'\n",
    "- plot the values of K with xarray (facetting)\n",
    "- compare the model runs with hvplot or ipyfastscaoe"
   ]
  },
  {
   "cell_type": "code",
   "execution_count": null,
   "id": "designed-hours",
   "metadata": {},
   "outputs": [],
   "source": []
  }
 ],
 "metadata": {
  "kernelspec": {
   "display_name": "Python 3",
   "language": "python",
   "name": "python3"
  },
  "language_info": {
   "codemirror_mode": {
    "name": "ipython",
    "version": 3
   },
   "file_extension": ".py",
   "mimetype": "text/x-python",
   "name": "python",
   "nbconvert_exporter": "python",
   "pygments_lexer": "ipython3",
   "version": "3.8.6"
  }
 },
 "nbformat": 4,
 "nbformat_minor": 5
}
