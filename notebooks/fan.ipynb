{
 "cells": [
  {
   "cell_type": "markdown",
   "metadata": {},
   "source": [
    "# ipyfastscape"
   ]
  },
  {
   "cell_type": "markdown",
   "metadata": {},
   "source": [
    "## Generate some elevation data from a landscape evolution model (fastscape)"
   ]
  },
  {
   "cell_type": "code",
   "execution_count": null,
   "metadata": {},
   "outputs": [],
   "source": [
    "import numpy as np\n",
    "import xsimlab as xs\n",
    "import xarray as xr\n",
    "\n",
    "from fastscape.models import sediment_model\n",
    "from ipyfastscape import TopoViz3d"
   ]
  },
  {
   "cell_type": "code",
   "execution_count": null,
   "metadata": {},
   "outputs": [],
   "source": [
    "from fastscape.processes import Escarpment\n",
    "\n",
    "\n",
    "model = (sediment_model\n",
    "         .drop_processes('uplift')\n",
    "         .update_processes({'init_topography': Escarpment}))"
   ]
  },
  {
   "cell_type": "code",
   "execution_count": null,
   "metadata": {},
   "outputs": [],
   "source": [
    "in_ds = xs.create_setup(\n",
    "    model=model,\n",
    "    clocks={\n",
    "        'time': np.arange(0, 4e5 + 2e3, 2e3),\n",
    "        'out': np.arange(0, 4e5 + 4e3, 4e3),\n",
    "    },\n",
    "    master_clock='time',\n",
    "    input_vars={\n",
    "        'grid__shape': [101, 201],\n",
    "        'grid__length': [1e4, 2e4],\n",
    "        'boundary__status': ['fixed_value', 'core', 'looped', 'looped'],\n",
    "        'init_topography': {\n",
    "            'x_left': 1e4,\n",
    "            'x_right': 1e4,\n",
    "            'elevation_left': 0.,\n",
    "            'elevation_right': 1e3\n",
    "        },\n",
    "        'flow__slope_exp': 1.,\n",
    "        'spl': {\n",
    "            'k_coef_bedrock': 1e-4,\n",
    "            'k_coef_soil': 1.5e-4,\n",
    "            'g_coef_bedrock': 1.,\n",
    "            'g_coef_soil': 1.,\n",
    "            'area_exp': 0.4,\n",
    "            'slope_exp': 1.\n",
    "        },\n",
    "        'diffusion': {\n",
    "            'diffusivity_bedrock': 1e-2,\n",
    "            'diffusivity_soil': 1.5e-2\n",
    "        }\n",
    "    },\n",
    "    output_vars={\n",
    "        'topography__elevation': 'out',\n",
    "        'erosion__rate': 'out',\n",
    "        'drainage__area': 'out',\n",
    "    }\n",
    ")"
   ]
  },
  {
   "cell_type": "code",
   "execution_count": null,
   "metadata": {},
   "outputs": [],
   "source": [
    "with xs.monitoring.ProgressBar():\n",
    "    out_ds = in_ds.xsimlab.run(model=model)"
   ]
  },
  {
   "cell_type": "code",
   "execution_count": null,
   "metadata": {},
   "outputs": [],
   "source": [
    "out_ds"
   ]
  },
  {
   "cell_type": "markdown",
   "metadata": {},
   "source": [
    "## Terrain 3D visualization"
   ]
  },
  {
   "cell_type": "code",
   "execution_count": null,
   "metadata": {},
   "outputs": [],
   "source": [
    "app = TopoViz3d(out_ds, canvas_height=550, time_dim=\"out\")\n",
    "\n",
    "app.components['coloring'].set_color_var('erosion__rate')\n",
    "app.components['coloring'].set_colormap('RdYlGn')\n",
    "app.components['coloring'].set_color_limits(-2e-3, 2e-3)\n",
    "app.components['vertical_exaggeration'].set_factor(3)\n",
    "app.components['background_color'].set_color('#333333')\n",
    "\n",
    "app.show()"
   ]
  },
  {
   "cell_type": "code",
   "execution_count": null,
   "metadata": {},
   "outputs": [],
   "source": [
    "app.components['coloring'].set_color_var('drainage__area')\n",
    "app.components['coloring'].set_colormap('Blues')\n",
    "app.components['coloring'].set_color_scale(log=True)"
   ]
  },
  {
   "cell_type": "code",
   "execution_count": null,
   "metadata": {},
   "outputs": [],
   "source": []
  }
 ],
 "metadata": {
  "kernelspec": {
   "display_name": "Python 3",
   "language": "python",
   "name": "python3"
  },
  "language_info": {
   "codemirror_mode": {
    "name": "ipython",
    "version": 3
   },
   "file_extension": ".py",
   "mimetype": "text/x-python",
   "name": "python",
   "nbconvert_exporter": "python",
   "pygments_lexer": "ipython3",
   "version": "3.8.6"
  }
 },
 "nbformat": 4,
 "nbformat_minor": 4
}
