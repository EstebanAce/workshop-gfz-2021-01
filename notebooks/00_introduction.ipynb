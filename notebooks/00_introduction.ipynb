{
 "cells": [
  {
   "cell_type": "markdown",
   "id": "constitutional-pollution",
   "metadata": {},
   "source": [
    "## Introduction: the xarray-simlab modeling framework\n",
    "\n",
    "Let's briefly review:\n",
    "\n",
    "- this blog post: https://medium.com/pangeo/pangeo-data-and-models-280b251ff0cd\n",
    "- xarray-simlab's documentation about the concepts behind the framework: https://xarray-simlab.readthedocs.io/en/latest/framework.html\n"
   ]
  },
  {
   "cell_type": "markdown",
   "id": "higher-light",
   "metadata": {},
   "source": [
    "## Showcase\n",
    "\n",
    "A brief demonstration (hopefully) showing the interactivity of xarray-simlab (and fastscape)."
   ]
  },
  {
   "cell_type": "code",
   "execution_count": null,
   "id": "hawaiian-guard",
   "metadata": {},
   "outputs": [],
   "source": [
    "import numpy as np\n",
    "import xsimlab as xs\n",
    "\n",
    "%load_ext xsimlab.ipython"
   ]
  },
  {
   "cell_type": "code",
   "execution_count": null,
   "id": "competitive-alloy",
   "metadata": {},
   "outputs": [],
   "source": [
    "# import a xarray-simlab model from fastscape\n",
    "from fastscape.models import basic_model\n",
    "\n",
    "# import a model component (process) from fastscape\n",
    "from fastscape.processes import MultipleFlowRouter\n",
    "\n",
    "# create a custom model with an alternative set of processes\n",
    "model = basic_model.update_processes({'flow': MultipleFlowRouter})\n"
   ]
  },
  {
   "cell_type": "code",
   "execution_count": null,
   "id": "complicated-shade",
   "metadata": {},
   "outputs": [],
   "source": [
    "# pre-define some inputs\n",
    "grid_shape = [201, 201]\n",
    "grid_length = [2e4, 2e4]\n",
    "steps = np.arange(0.0, 2e5, 2e3)\n",
    "\n",
    "u_rate = 1e-3\n",
    "k_f = 2e-4\n",
    "k_d = 0.01"
   ]
  },
  {
   "cell_type": "code",
   "execution_count": null,
   "id": "studied-ballet",
   "metadata": {},
   "outputs": [],
   "source": [
    "# %create_setup model -d -v\n",
    "import xsimlab as xs\n",
    "\n",
    "ds_in = xs.create_setup(\n",
    "    model=model,\n",
    "    clocks={'time': steps},\n",
    "    input_vars={\n",
    "        # nb. of grid nodes in (y, x)\n",
    "        'grid__shape': grid_shape,\n",
    "        # total grid length in (y, x)\n",
    "        'grid__length': grid_length,\n",
    "        # node status at borders\n",
    "        'boundary__status': 'fixed_value',\n",
    "        # uplift rate\n",
    "        'uplift__rate': u_rate,\n",
    "        # random seed\n",
    "        'init_topography__seed': None,\n",
    "        # diffusivity (transport coefficient)\n",
    "        'diffusion__diffusivity': k_d,\n",
    "        # MFD partioner slope exponent\n",
    "        'flow__slope_exp': 0.0,\n",
    "        # bedrock channel incision coefficient\n",
    "        'spl__k_coef': k_f,\n",
    "        # drainage area exponent\n",
    "        'spl__area_exp': 0.4,\n",
    "        # slope exponent\n",
    "        'spl__slope_exp': 1,\n",
    "    },\n",
    "    output_vars={\n",
    "        'topography__elevation': 'time',\n",
    "        'drainage__area': 'time',\n",
    "        'erosion__rate': 'time',\n",
    "    }\n",
    ")\n"
   ]
  },
  {
   "cell_type": "code",
   "execution_count": null,
   "id": "closing-empty",
   "metadata": {},
   "outputs": [],
   "source": [
    "# run the model\n",
    "with model, xs.monitoring.ProgressBar():\n",
    "    ds_out = ds_in.xsimlab.run()\n",
    "    \n",
    "# or run a batch of models\n",
    "#with model:\n",
    "#    ds_out = ds_in.xsimlab.run(batch_dim='batch', parallel=True, scheduler='processes', store='run.zarr')"
   ]
  },
  {
   "cell_type": "code",
   "execution_count": null,
   "id": "collaborative-joyce",
   "metadata": {},
   "outputs": [],
   "source": [
    "ds_out"
   ]
  },
  {
   "cell_type": "code",
   "execution_count": null,
   "id": "scenic-title",
   "metadata": {},
   "outputs": [],
   "source": [
    "from ipyfastscape import TopoViz3d\n",
    "\n",
    "app = TopoViz3d(ds_out, time_dim='time')\n",
    "\n",
    "app.components['vertical_exaggeration'].set_factor(12)\n",
    "\n",
    "app.show()"
   ]
  },
  {
   "cell_type": "code",
   "execution_count": null,
   "id": "optical-japanese",
   "metadata": {},
   "outputs": [],
   "source": [
    "# show topography\n",
    "\n",
    "app.components['coloring'].set_color_var('topography__elevation')\n",
    "app.components['coloring'].set_colormap('Cividis')\n",
    "app.components['coloring'].set_color_scale(log=False)"
   ]
  },
  {
   "cell_type": "code",
   "execution_count": null,
   "id": "smooth-second",
   "metadata": {},
   "outputs": [],
   "source": [
    "# show drainage area\n",
    "\n",
    "app.components['coloring'].set_color_var('drainage__area')\n",
    "app.components['coloring'].set_colormap('Blues')\n",
    "app.components['coloring'].set_color_scale(log=True)"
   ]
  },
  {
   "cell_type": "code",
   "execution_count": null,
   "id": "sunset-heart",
   "metadata": {},
   "outputs": [],
   "source": [
    "# show erosion rate\n",
    "\n",
    "app.components['coloring'].set_color_var('erosion__rate')\n",
    "app.components['coloring'].set_colormap('RdYlBu')\n",
    "app.components['coloring'].set_color_limits(-2e-3, 2e-3)\n",
    "app.components['coloring'].set_color_scale(log=False)"
   ]
  },
  {
   "cell_type": "code",
   "execution_count": null,
   "id": "green-diploma",
   "metadata": {},
   "outputs": [],
   "source": []
  }
 ],
 "metadata": {
  "kernelspec": {
   "display_name": "Python 3",
   "language": "python",
   "name": "python3"
  },
  "language_info": {
   "codemirror_mode": {
    "name": "ipython",
    "version": 3
   },
   "file_extension": ".py",
   "mimetype": "text/x-python",
   "name": "python",
   "nbconvert_exporter": "python",
   "pygments_lexer": "ipython3",
   "version": "3.8.6"
  }
 },
 "nbformat": 4,
 "nbformat_minor": 5
}
