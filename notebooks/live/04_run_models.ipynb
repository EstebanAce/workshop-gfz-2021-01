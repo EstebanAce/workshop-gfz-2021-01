{
 "cells": [
  {
   "cell_type": "markdown",
   "id": "compact-planning",
   "metadata": {},
   "source": [
    "# Xarray-simlab: run models and visualize outputs\n",
    "\n",
    "We'll see here how to:\n",
    "\n",
    "- setup and run one simulation\n",
    "- save and reuse simulation setups\n",
    "- set time-varying input values (external forcing)\n",
    "- save model variable snapshots at different time steps / time frequencies\n",
    "- save model snapshots to different stores (e.g., in-memory vs. on-disk) and save model outputs to a file\n",
    "- run simulation batches in parallel\n",
    "- leverage some xarray features for simulation pre/post-processing\n",
    "- visualize and compare (interactively) simulation outputs using xarray plotting features (built on top of matplotlib), hvplot (holoviews/bokeh) and ipyfastscape (ipywidgets)"
   ]
  },
  {
   "cell_type": "code",
   "execution_count": null,
   "id": "color-kernel",
   "metadata": {},
   "outputs": [],
   "source": [
    "import numpy as np\n",
    "import xsimlab as xs\n",
    "import xarray as xr\n",
    "\n",
    "# visualization\n",
    "import matplotlib as plt\n",
    "import hvplot.xarray\n",
    "from ipyfastscape import TopoViz3d\n",
    "\n",
    "# ipython magic command\n",
    "%load_ext xsimlab.ipython"
   ]
  },
  {
   "cell_type": "markdown",
   "id": "prospective-trailer",
   "metadata": {},
   "source": [
    "## Setup a new simulation from scratch"
   ]
  },
  {
   "cell_type": "code",
   "execution_count": null,
   "id": "collect-township",
   "metadata": {},
   "outputs": [],
   "source": []
  },
  {
   "cell_type": "markdown",
   "id": "noted-moment",
   "metadata": {},
   "source": [
    "### Save / load a simulation setup to / from a file"
   ]
  },
  {
   "cell_type": "code",
   "execution_count": null,
   "id": "abstract-underground",
   "metadata": {},
   "outputs": [],
   "source": []
  },
  {
   "cell_type": "markdown",
   "id": "polyphonic-scott",
   "metadata": {},
   "source": [
    "## Run a simulation"
   ]
  },
  {
   "cell_type": "code",
   "execution_count": null,
   "id": "personalized-child",
   "metadata": {},
   "outputs": [],
   "source": []
  },
  {
   "cell_type": "markdown",
   "id": "pending-drawing",
   "metadata": {},
   "source": [
    "### Save simulation outputs to a file"
   ]
  },
  {
   "cell_type": "code",
   "execution_count": null,
   "id": "norwegian-landing",
   "metadata": {},
   "outputs": [],
   "source": []
  },
  {
   "cell_type": "markdown",
   "id": "introductory-intellectual",
   "metadata": {},
   "source": [
    "### Save simulation outputs to a (zarr) store as the simulation proceeds"
   ]
  },
  {
   "cell_type": "code",
   "execution_count": null,
   "id": "israeli-government",
   "metadata": {},
   "outputs": [],
   "source": []
  },
  {
   "cell_type": "markdown",
   "id": "functioning-warrant",
   "metadata": {},
   "source": [
    "### Simulation outputs post-processing and visualization "
   ]
  },
  {
   "cell_type": "markdown",
   "id": "mexican-florist",
   "metadata": {},
   "source": []
  },
  {
   "cell_type": "markdown",
   "id": "varying-definition",
   "metadata": {},
   "source": [
    "## Reuse previous simulation settings for running new simulations"
   ]
  },
  {
   "cell_type": "code",
   "execution_count": null,
   "id": "resident-number",
   "metadata": {},
   "outputs": [],
   "source": []
  },
  {
   "cell_type": "markdown",
   "id": "corresponding-tonight",
   "metadata": {},
   "source": [
    "## Compare model runs"
   ]
  },
  {
   "cell_type": "code",
   "execution_count": null,
   "id": "beneficial-square",
   "metadata": {},
   "outputs": [],
   "source": []
  },
  {
   "cell_type": "markdown",
   "id": "bridal-nightmare",
   "metadata": {},
   "source": [
    "## Set time-varying input values"
   ]
  },
  {
   "cell_type": "code",
   "execution_count": null,
   "id": "processed-surrey",
   "metadata": {},
   "outputs": [],
   "source": []
  },
  {
   "cell_type": "markdown",
   "id": "deluxe-possibility",
   "metadata": {},
   "source": [
    "## Exercise: effect of erosion parameters on domain-integrated sediment fluxes\n",
    "\n",
    "- Re-run a new simulation with time varying erosion coefficients. Save snapshots for the erosion rate (all processes)\n",
    "- Compute the erosion rate integrated over the whole domain using xarray (you can get the grid total area as a model output so you don't need to recalculate it)\n",
    "- Plot time series for both the erosion coefficients and the sediment fluxes, using xarray's plotting functions"
   ]
  },
  {
   "cell_type": "markdown",
   "id": "french-firewall",
   "metadata": {},
   "source": [
    "## Run simulation batches"
   ]
  },
  {
   "cell_type": "code",
   "execution_count": null,
   "id": "necessary-bloom",
   "metadata": {},
   "outputs": [],
   "source": []
  },
  {
   "cell_type": "markdown",
   "id": "cleared-calendar",
   "metadata": {},
   "source": [
    "**Note that it has limitations**: Dask and zarr are both very flexible libraries, and parallel computing is not an easy problem. We must be careful:\n",
    "\n",
    "- Fastscape is currently not thread-safe (you can run multiple simulations simultaeously on different threads), we must use Dask's process (or distributed) scheduler.\n",
    "- We have to use a Zarr store that is compatible with running the simulations in different processes. The default, in-memory store is not compatible, so we need to use a directory store."
   ]
  },
  {
   "cell_type": "markdown",
   "id": "renewable-parade",
   "metadata": {},
   "source": [
    "## Advanced setup and visualization"
   ]
  },
  {
   "cell_type": "code",
   "execution_count": null,
   "id": "alien-elements",
   "metadata": {},
   "outputs": [],
   "source": []
  },
  {
   "cell_type": "markdown",
   "id": "upset-belarus",
   "metadata": {},
   "source": [
    "## Exercise: leverage xarray's n-dimensional datasets\n",
    "\n",
    "- set and run a batch of simulations for different (array) values of SPL's K coefficient\n",
    "- for each simulation, K must be variable in both space and time\n",
    "   - the input variable for K should have 4 dimensions: 'batch', 'x', 'y', 'time'\n",
    "- plot the values of K with xarray (facetting)\n",
    "- compare the model runs with hvplot or ipyfastscaoe"
   ]
  },
  {
   "cell_type": "code",
   "execution_count": null,
   "id": "strange-deficit",
   "metadata": {},
   "outputs": [],
   "source": []
  }
 ],
 "metadata": {
  "kernelspec": {
   "display_name": "Python 3",
   "language": "python",
   "name": "python3"
  },
  "language_info": {
   "codemirror_mode": {
    "name": "ipython",
    "version": 3
   },
   "file_extension": ".py",
   "mimetype": "text/x-python",
   "name": "python",
   "nbconvert_exporter": "python",
   "pygments_lexer": "ipython3",
   "version": "3.8.6"
  }
 },
 "nbformat": 4,
 "nbformat_minor": 5
}
