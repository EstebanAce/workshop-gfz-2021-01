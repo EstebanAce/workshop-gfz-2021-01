{
 "cells": [
  {
   "cell_type": "markdown",
   "id": "permanent-polymer",
   "metadata": {},
   "source": [
    "# Xarray-simlab: create new processes\n",
    "\n",
    "We'll see here how to create new xarray-simlab processes (Python classes) to extend model capabilities."
   ]
  },
  {
   "cell_type": "code",
   "execution_count": null,
   "id": "velvet-washer",
   "metadata": {},
   "outputs": [],
   "source": [
    "import numpy as np\n",
    "import xsimlab as xs\n",
    "import xarray as xr\n"
   ]
  },
  {
   "cell_type": "markdown",
   "id": "novel-invitation",
   "metadata": {},
   "source": [
    "## Preparation"
   ]
  },
  {
   "cell_type": "markdown",
   "id": "married-particle",
   "metadata": {},
   "source": [
    "Import the `basic_model` from `fastscape`, and create a new xarray-simlab model instance by replacing the `flow` process (`SingleFlowRouter`) with the `MultipleFlowRouter` process, also available in `fastscape`."
   ]
  },
  {
   "cell_type": "code",
   "execution_count": null,
   "id": "worthy-relation",
   "metadata": {},
   "outputs": [],
   "source": []
  },
  {
   "cell_type": "markdown",
   "id": "handy-robinson",
   "metadata": {},
   "source": [
    "Create a new simulation setup (note: for convenience you can use the `%create_setup` magic command), e.g, with the following values:\n",
    "\n",
    "- grid size: 201 nodes along the x-axis, 101 nodes along y-axis\n",
    "- grid length: 20 km along the x-axis, 10 km along the y-axis\n",
    "- boundaries: periodic boundaries for the left/right grid borders, fixed value boundaries for the top/bottom borders\n",
    "- vertical block uplift rate $U$: 0.001\n",
    "- Stream-Power law's $K_f$ coefficient: 0.0001\n",
    "- Linear diffusion $K_d$ coefficient: 0.1\n"
   ]
  },
  {
   "cell_type": "code",
   "execution_count": null,
   "id": "excess-hygiene",
   "metadata": {},
   "outputs": [],
   "source": []
  },
  {
   "cell_type": "markdown",
   "id": "comparable-startup",
   "metadata": {},
   "source": [
    "Run the model with the settings created above (you can use xarray-simlab's [progress bar](https://xarray-simlab.readthedocs.io/en/latest/monitor.html#progress-bar) to track the simulation progress)."
   ]
  },
  {
   "cell_type": "code",
   "execution_count": null,
   "id": "consolidated-document",
   "metadata": {},
   "outputs": [],
   "source": []
  },
  {
   "cell_type": "markdown",
   "id": "senior-ultimate",
   "metadata": {},
   "source": [
    "### Periodic forcing (time-varying erosion efficiency)\n",
    "\n",
    "Create a time series for the Stream-Power law's $K_f$ coefficient, where its value oscillates at a given amplitude and frequency. The length and resolution of the time series should match the time steps used for the model run above. To create the time series, you can use numpy or xarray."
   ]
  },
  {
   "cell_type": "code",
   "execution_count": null,
   "id": "derived-precipitation",
   "metadata": {},
   "outputs": [],
   "source": []
  },
  {
   "cell_type": "markdown",
   "id": "standing-operations",
   "metadata": {},
   "source": [
    "Plot the time series to ensure that it is ok (you can use the `xarray.Dataset.plot` extension, see the [plotting section](http://xarray.pydata.org/en/stable/plotting.html) in xarray's documentation)."
   ]
  },
  {
   "cell_type": "code",
   "execution_count": null,
   "id": "mathematical-alliance",
   "metadata": {},
   "outputs": [],
   "source": []
  },
  {
   "cell_type": "markdown",
   "id": "pressed-arrival",
   "metadata": {},
   "source": [
    "Create a new simulation setup (reusing the previous one) with the $K_f$ coefficient time series, and run it."
   ]
  },
  {
   "cell_type": "code",
   "execution_count": null,
   "id": "noble-johnson",
   "metadata": {},
   "outputs": [],
   "source": []
  },
  {
   "cell_type": "markdown",
   "id": "logical-logistics",
   "metadata": {},
   "source": [
    "### Domain-averaged erosion rates\n",
    "\n",
    "Using the outputs from the last simulation, compute the time series of erosion rates averaged over the whole grid."
   ]
  },
  {
   "cell_type": "code",
   "execution_count": null,
   "id": "expressed-caribbean",
   "metadata": {},
   "outputs": [],
   "source": []
  },
  {
   "cell_type": "markdown",
   "id": "italic-approach",
   "metadata": {},
   "source": [
    "Plot the time series."
   ]
  },
  {
   "cell_type": "code",
   "execution_count": null,
   "id": "threaded-acting",
   "metadata": {},
   "outputs": [],
   "source": []
  },
  {
   "cell_type": "markdown",
   "id": "designed-immune",
   "metadata": {},
   "source": [
    "## Include pre/post-processing into the model\n",
    "\n",
    "There are limitations with the time series that were computed above before and after running the simulation:\n",
    "\n",
    "- What if we want to explore the effect of the amplitude and frequency on the results? We could create extra-dimensions for the $K_f$ coefficient array values (e.g., batch + time dimensions) and pass it a xarray-simlab new simulation setup, but it might become tedious and extra-dimensions may be confusing.\n",
    "- If we want to have a high-resolution time series of domain-averaged erosion rates (i.e., at every time step), we would need to save the erosion rates for the whole grid at the same resolution, which might take a lot of memory for large grids and long simulations.\n",
    "\n",
    "Fortunately, xarray-simlab models can be easily extended. We can create new processes that will compute those time series, and make it part of a model."
   ]
  },
  {
   "cell_type": "markdown",
   "id": "animal-clear",
   "metadata": {},
   "source": [
    "### Periodic forcing process\n",
    "\n",
    "Create a new process class that implements sinusoidal variation of the $K_f$ coefficient at a given amplitude.\n",
    "\n",
    "You'll need to declare:\n",
    "\n",
    "- input variables for the average value of $K_f$, the amplitude and the frequency of the oscillation.\n",
    "- one output (foreign) variable for the computed value of $K_f$ at each time step.\n",
    "\n",
    "To compute the value of $K_f$, you'll also need to get the current time of the simulation. You can apply the [runtime](https://xarray-simlab.readthedocs.io/en/latest/_api_generated/xsimlab.runtime.html#xsimlab.runtime) decorator on the `run_step` function."
   ]
  },
  {
   "cell_type": "code",
   "execution_count": null,
   "id": "through-sunday",
   "metadata": {},
   "outputs": [],
   "source": []
  },
  {
   "cell_type": "markdown",
   "id": "dramatic-assumption",
   "metadata": {},
   "source": [
    "Test the new process created (just use the class without including it in a xarray-simlab model for now). You can for example create a time-series by calling `run_step` multiple times."
   ]
  },
  {
   "cell_type": "code",
   "execution_count": null,
   "id": "sudden-ghana",
   "metadata": {},
   "outputs": [],
   "source": []
  },
  {
   "cell_type": "markdown",
   "id": "bibliographic-breath",
   "metadata": {},
   "source": [
    "### Domain-averaged erosion rates process\n",
    "\n",
    "Create a new process class that computes the domain averaged total erosion rate at each time step.\n",
    "\n",
    "You'll need to declare:\n",
    "\n",
    "- input (foreign) variables to get the total erosion rate values on grid nodes and the grid total area.\n",
    "- one output value that computes the domain-averaged erosion rate."
   ]
  },
  {
   "cell_type": "code",
   "execution_count": null,
   "id": "progressive-yorkshire",
   "metadata": {},
   "outputs": [],
   "source": []
  },
  {
   "cell_type": "markdown",
   "id": "visible-consolidation",
   "metadata": {},
   "source": [
    "Test the new process created (you can for example use a field of constant values of erosion rate)."
   ]
  },
  {
   "cell_type": "code",
   "execution_count": null,
   "id": "reserved-david",
   "metadata": {},
   "outputs": [],
   "source": []
  },
  {
   "cell_type": "markdown",
   "id": "technical-tumor",
   "metadata": {},
   "source": [
    "### Update and run the model\n",
    "\n",
    "Create a new model from the model used in the previous simulations, by including the two new processes created above."
   ]
  },
  {
   "cell_type": "code",
   "execution_count": null,
   "id": "conditional-damages",
   "metadata": {},
   "outputs": [],
   "source": []
  },
  {
   "cell_type": "markdown",
   "id": "separated-cricket",
   "metadata": {},
   "source": [
    "Inspect the new model to see if the inputs have changed."
   ]
  },
  {
   "cell_type": "code",
   "execution_count": null,
   "id": "better-customs",
   "metadata": {},
   "outputs": [],
   "source": []
  },
  {
   "cell_type": "markdown",
   "id": "frozen-illustration",
   "metadata": {},
   "source": [
    "Visualize the graph of processes to see how the two new processes depend on other processes that were already in the model."
   ]
  },
  {
   "cell_type": "code",
   "execution_count": null,
   "id": "exposed-dress",
   "metadata": {},
   "outputs": [],
   "source": []
  },
  {
   "cell_type": "markdown",
   "id": "portable-pottery",
   "metadata": {},
   "source": [
    "Create a new simulation setup. You can reuse one of the previous setups, with [xsimlab.update_vars](https://xarray-simlab.readthedocs.io/en/latest/_api_generated/xarray.Dataset.xsimlab.update_vars.html#xarray.Dataset.xsimlab.update_vars) and [xsimlab.filter_vars](https://xarray-simlab.readthedocs.io/en/latest/_api_generated/xarray.Dataset.xsimlab.filter_vars.html). Save model output snaptshots so that we can further get and plot the time series for both the $K_f$ coefficient and the domain-averaged erosion rate."
   ]
  },
  {
   "cell_type": "code",
   "execution_count": null,
   "id": "buried-event",
   "metadata": {},
   "outputs": [],
   "source": []
  },
  {
   "cell_type": "markdown",
   "id": "acute-plaza",
   "metadata": {},
   "source": [
    "Plot the time series"
   ]
  },
  {
   "cell_type": "code",
   "execution_count": null,
   "id": "laden-costa",
   "metadata": {},
   "outputs": [],
   "source": []
  },
  {
   "cell_type": "markdown",
   "id": "intellectual-interface",
   "metadata": {},
   "source": [
    "## Bonus: sensitivity analysis\n",
    "\n",
    "Explore the effect the amplitude and/or frenquency of the oscillations of $K_f$. See the [Run simulation batches](04_run_models.ipynb#run_simulation_batches) section of the notebook `04_run_models` for running multiple simulations with different values for model input values. You can visualize the outputs using `hvplot` (time series) or `ipyfastscape` (3D visualization)."
   ]
  },
  {
   "cell_type": "code",
   "execution_count": null,
   "id": "taken-reservoir",
   "metadata": {},
   "outputs": [],
   "source": []
  }
 ],
 "metadata": {
  "kernelspec": {
   "display_name": "Python 3",
   "language": "python",
   "name": "python3"
  },
  "language_info": {
   "codemirror_mode": {
    "name": "ipython",
    "version": 3
   },
   "file_extension": ".py",
   "mimetype": "text/x-python",
   "name": "python",
   "nbconvert_exporter": "python",
   "pygments_lexer": "ipython3",
   "version": "3.8.6"
  }
 },
 "nbformat": 4,
 "nbformat_minor": 5
}
