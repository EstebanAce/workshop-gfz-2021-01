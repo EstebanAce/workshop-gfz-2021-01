{
 "cells": [
  {
   "cell_type": "markdown",
   "id": "instrumental-haiti",
   "metadata": {},
   "source": [
    "# Xarray-simlab: create new models from scratch\n",
    "\n",
    "We'll see here how to create new models from scratch, i.e., first create new process classes and then use them in a `xsimlab.Model` object."
   ]
  },
  {
   "cell_type": "markdown",
   "id": "adult-leadership",
   "metadata": {},
   "source": [
    "## 1D bedrock channel profile evolution\n",
    "\n",
    "A model of berock channel profile evolution (using the Stream-Power law) is implemented in Python/Numpy in the [stream_power_1d](extra/stream_power_1d.ipynb) notebook.\n",
    "\n",
    "Let's see how we can refactor it as a xarray-simlab flexible model."
   ]
  },
  {
   "cell_type": "markdown",
   "id": "direct-battle",
   "metadata": {},
   "source": [
    "### Grid process\n",
    "\n",
    "Define the `x` variable (x-coordinate values of grid nodes along the channel profile)."
   ]
  },
  {
   "cell_type": "code",
   "execution_count": null,
   "id": "driving-spell",
   "metadata": {},
   "outputs": [],
   "source": []
  },
  {
   "cell_type": "markdown",
   "id": "corporate-singles",
   "metadata": {},
   "source": [
    "### Hack's Law process\n",
    "\n",
    "Used to compute drainage area values along the profile (from the grid `x` variable)."
   ]
  },
  {
   "cell_type": "code",
   "execution_count": null,
   "id": "italic-lebanon",
   "metadata": {},
   "outputs": [],
   "source": []
  },
  {
   "cell_type": "markdown",
   "id": "elect-cloud",
   "metadata": {},
   "source": [
    "### Channel profile process\n",
    "\n",
    "Define the `z` variable (channel profile height, updated at each time step)."
   ]
  },
  {
   "cell_type": "code",
   "execution_count": null,
   "id": "noted-colombia",
   "metadata": {},
   "outputs": [],
   "source": []
  },
  {
   "cell_type": "markdown",
   "id": "appreciated-malawi",
   "metadata": {},
   "source": [
    "### Initial profile processes\n",
    "\n",
    "Compute a initial value for the `z` variable.\n",
    "\n",
    "- initial ramp (constant slope) process\n",
    "- initial flat plateau process\n",
    "- initial steady process (steady-state profile, analytical SPL solution)"
   ]
  },
  {
   "cell_type": "markdown",
   "id": "reserved-gamma",
   "metadata": {},
   "source": [
    "### Base level process(es)\n",
    "\n",
    "Control the dynamics of the base level grid node."
   ]
  },
  {
   "cell_type": "code",
   "execution_count": null,
   "id": "median-spoke",
   "metadata": {},
   "outputs": [],
   "source": []
  },
  {
   "cell_type": "markdown",
   "id": "successful-brook",
   "metadata": {},
   "source": [
    "### Derived attributes process(es)\n",
    "\n",
    "Compute log(channel slope) and/or log(drainage area)."
   ]
  },
  {
   "cell_type": "code",
   "execution_count": null,
   "id": "convenient-bottom",
   "metadata": {},
   "outputs": [],
   "source": []
  }
 ],
 "metadata": {
  "kernelspec": {
   "display_name": "Python 3",
   "language": "python",
   "name": "python3"
  },
  "language_info": {
   "codemirror_mode": {
    "name": "ipython",
    "version": 3
   },
   "file_extension": ".py",
   "mimetype": "text/x-python",
   "name": "python",
   "nbconvert_exporter": "python",
   "pygments_lexer": "ipython3",
   "version": "3.8.6"
  }
 },
 "nbformat": 4,
 "nbformat_minor": 5
}
