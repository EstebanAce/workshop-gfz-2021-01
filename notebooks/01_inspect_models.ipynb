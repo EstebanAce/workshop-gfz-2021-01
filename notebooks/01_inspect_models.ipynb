{
 "cells": [
  {
   "cell_type": "markdown",
   "id": "express-grade",
   "metadata": {},
   "source": [
    "# Xarray-simlab: inspect models\n",
    "\n",
    "We'll see here how to inspect xarray-simlab models to get information about:\n",
    "\n",
    "- the model components (processes) and how they depend on each other\n",
    "- the model state variables and their properties (type, dimensions, description, etc.)\n",
    "- the model inputs"
   ]
  },
  {
   "cell_type": "markdown",
   "id": "given-links",
   "metadata": {},
   "source": [
    "Let's import xarray-simlab first"
   ]
  },
  {
   "cell_type": "code",
   "execution_count": null,
   "id": "desirable-tuner",
   "metadata": {},
   "outputs": [],
   "source": [
    "import xsimlab as xs\n",
    "\n",
    "xs.__version__"
   ]
  },
  {
   "cell_type": "markdown",
   "id": "worse-dryer",
   "metadata": {},
   "source": [
    "Let's import a xarray-simlab model from `fastscape` "
   ]
  },
  {
   "cell_type": "code",
   "execution_count": null,
   "id": "meaning-lyric",
   "metadata": {},
   "outputs": [],
   "source": [
    "from fastscape.models import basic_model"
   ]
  },
  {
   "cell_type": "markdown",
   "id": "rolled-straight",
   "metadata": {},
   "source": [
    "## Interactive introspection using the objects `repr`'s\n",
    "\n",
    "By just typing an object in a code cell, we can display it's `repr` (representation).\n",
    "\n",
    "### Inspecting models\n",
    "\n",
    "For a xarray-simlab `Model` object, this gives a list of (ordered) processes and model input variables (i.e., `[in]`) defined in each of those processes. For each input variable it shows a one-line summary with the dimension labels + a (maybe truncated description).\n",
    "\n",
    "Note: a variable may accepts different numbers of dimensions, e.g., 0D, 1D, 2D, etc. each with their own defined labels. "
   ]
  },
  {
   "cell_type": "code",
   "execution_count": null,
   "id": "sunrise-mortality",
   "metadata": {},
   "outputs": [],
   "source": [
    "basic_model"
   ]
  },
  {
   "cell_type": "markdown",
   "id": "insured-compact",
   "metadata": {},
   "source": [
    "### Inspecting model processes\n",
    "\n",
    "The processes of a model can be accessed either via dict-like access or via Python class attribute-like access. Their `repr` show:\n",
    "\n",
    "- the name of the corresponding Python class (decorated with `@xs.process`)\n",
    "- the name of the process in the model\n",
    "- all variables defined in the process (each with a one line summary: dimension label(s), description, reference variable in case of `xs.foreign` variables)\n",
    "- the simulation stages that are implemented in the process\n",
    "\n",
    "Example with dict-like access:"
   ]
  },
  {
   "cell_type": "code",
   "execution_count": null,
   "id": "starting-taxation",
   "metadata": {},
   "outputs": [],
   "source": [
    "basic_model['spl']"
   ]
  },
  {
   "cell_type": "markdown",
   "id": "after-sunglasses",
   "metadata": {},
   "source": [
    "Example with attribute-like access:"
   ]
  },
  {
   "cell_type": "code",
   "execution_count": null,
   "id": "insured-surfing",
   "metadata": {},
   "outputs": [],
   "source": [
    "basic_model.spl"
   ]
  },
  {
   "cell_type": "markdown",
   "id": "swiss-sandwich",
   "metadata": {},
   "source": [
    "### Inspecting processes and variables not attached to any model\n",
    "\n",
    "It may be useful to inspect a process and its variables before including it in a xarray-simlab model. Xarray-simlab provides convenient functions for that.\n",
    "\n",
    "Let's import a process from fastscape"
   ]
  },
  {
   "cell_type": "code",
   "execution_count": null,
   "id": "declared-efficiency",
   "metadata": {},
   "outputs": [],
   "source": [
    "from fastscape.processes import Escarpment"
   ]
  },
  {
   "cell_type": "markdown",
   "id": "prerequisite-concept",
   "metadata": {},
   "source": [
    "The function `xs.process_info()` shows similar information than above, without the need here that `Escarpment` be part of a model."
   ]
  },
  {
   "cell_type": "code",
   "execution_count": null,
   "id": "plastic-german",
   "metadata": {},
   "outputs": [],
   "source": [
    "xs.process_info(Escarpment)"
   ]
  },
  {
   "cell_type": "markdown",
   "id": "diverse-panel",
   "metadata": {},
   "source": [
    "Similarly, `xs.variable_info()` shows information about a variable defined in a process. It shows the complete description as well as all properties."
   ]
  },
  {
   "cell_type": "code",
   "execution_count": null,
   "id": "shared-primary",
   "metadata": {},
   "outputs": [],
   "source": [
    "xs.variable_info(Escarpment, 'x_left')"
   ]
  },
  {
   "cell_type": "markdown",
   "id": "decreased-offset",
   "metadata": {},
   "source": [
    "## Process and variable docstrings\n",
    "\n",
    "Another way to inspect processes and variables (whether or not they are part of a model) is by looking at their docstrings. Docstrings are the documentation for Python functions or classes that is directly written in the code (just below the declaration of the class/function). Xarray-simlab also automatically fills the docstrings of process classes, with detailled information extracted from the variables metadata.\n",
    "\n",
    "This allows to easily generate documentation online, e.g., https://fastscape.readthedocs.io/en/latest/_api_generated/fastscape.processes.FlatSurface.html#fastscape.processes.FlatSurface\n",
    "\n",
    "In Jupyter notebooks, you can press `shift-tab` to show in a pop-up the docstrings the object where your cursor is on. You can also use `?` or `??`:"
   ]
  },
  {
   "cell_type": "code",
   "execution_count": null,
   "id": "aquatic-genius",
   "metadata": {},
   "outputs": [],
   "source": [
    "basic_model.init_topography?"
   ]
  },
  {
   "cell_type": "code",
   "execution_count": null,
   "id": "electrical-bloom",
   "metadata": {},
   "outputs": [],
   "source": [
    "Escarpment?"
   ]
  },
  {
   "cell_type": "markdown",
   "id": "coordinate-beginning",
   "metadata": {},
   "source": [
    "Variables have also their docstrings (only when the process is in a model):"
   ]
  },
  {
   "cell_type": "code",
   "execution_count": null,
   "id": "prescription-supplement",
   "metadata": {},
   "outputs": [],
   "source": [
    "basic_model.init_topography.seed?"
   ]
  },
  {
   "cell_type": "markdown",
   "id": "comic-implementation",
   "metadata": {},
   "source": [
    "## Visualize models as graphs\n",
    "\n",
    "Xarray-simlab models consist of graphs (Directed Acyclic Graph, DAG) of processes.\n",
    "\n",
    "One process may depend on one or many other processes. Likewise, one process may have one or many dependent processes.\n",
    "\n",
    "The only constraint is that there cannot by any cycle in the graph. This would mean that a process both computes a value that is required in other processes *and* requires a value computed in those other processes (or processes further in the dependency chain). In this case, it is impossible to determine in which order the processes should be executed so that when a value is needed, it has been already computed (or given as model input).\n",
    "\n",
    "When a model object is created, Xarray-simlab automatically determines an order in which the processes can be executed (DAG topological sorting), by looking at the intent ('in', 'out', 'inout') of each variable.\n",
    "\n",
    "Xarray-simlab provides a way to visualize the DAG (each blue node is a process):"
   ]
  },
  {
   "cell_type": "code",
   "execution_count": null,
   "id": "polar-secretariat",
   "metadata": {},
   "outputs": [],
   "source": [
    "basic_model.visualize()"
   ]
  },
  {
   "cell_type": "markdown",
   "id": "downtown-phoenix",
   "metadata": {},
   "source": [
    "It is also possible to show the model inputs (in yellow):"
   ]
  },
  {
   "cell_type": "code",
   "execution_count": null,
   "id": "transsexual-joint",
   "metadata": {},
   "outputs": [],
   "source": [
    "basic_model.visualize(show_inputs=True)"
   ]
  },
  {
   "cell_type": "markdown",
   "id": "turned-candy",
   "metadata": {},
   "source": [
    "Or all variables (the graph may be not very easy to visualize). In the example below:\n",
    "\n",
    "- input variables are on the left of a process node and output variables are on the right.\n",
    "- dashed nodes are foreign variables (reference to a variable declared in another process)"
   ]
  },
  {
   "cell_type": "code",
   "execution_count": null,
   "id": "pleased-compromise",
   "metadata": {},
   "outputs": [],
   "source": [
    "basic_model.visualize(show_variables=True)"
   ]
  },
  {
   "cell_type": "markdown",
   "id": "italian-weekly",
   "metadata": {},
   "source": [
    "Or only one variable and all its references in all processes:"
   ]
  },
  {
   "cell_type": "code",
   "execution_count": null,
   "id": "secure-witness",
   "metadata": {},
   "outputs": [],
   "source": [
    "basic_model.visualize(show_only_variable=('topography', 'elevation'))"
   ]
  },
  {
   "cell_type": "markdown",
   "id": "oriental-coordination",
   "metadata": {},
   "source": [
    "## Other useful ways to extract information from models\n",
    "\n",
    "It may sometimes be useful to extract information in a format that is more convenient to handle for doing things programmatically. Xarray-simlab provides some convenient functions for that.\n",
    "\n",
    "For example, to get all model inputs has a list of ``(process_name, var_name)`` tuples:"
   ]
  },
  {
   "cell_type": "code",
   "execution_count": null,
   "id": "aging-marine",
   "metadata": {},
   "outputs": [],
   "source": [
    "basic_model.input_vars"
   ]
  },
  {
   "cell_type": "markdown",
   "id": "oriented-wesley",
   "metadata": {},
   "source": [
    "Or as a dictionary"
   ]
  },
  {
   "cell_type": "code",
   "execution_count": null,
   "id": "quality-sympathy",
   "metadata": {},
   "outputs": [],
   "source": [
    "basic_model.input_vars_dict"
   ]
  },
  {
   "cell_type": "markdown",
   "id": "dental-dominican",
   "metadata": {},
   "source": [
    "Same for all model variables:"
   ]
  },
  {
   "cell_type": "code",
   "execution_count": null,
   "id": "internal-turner",
   "metadata": {},
   "outputs": [],
   "source": [
    "basic_model.all_vars"
   ]
  },
  {
   "cell_type": "markdown",
   "id": "arctic-exhaust",
   "metadata": {},
   "source": [
    "It is also possible to extract some variable metadata via a model `cache` property"
   ]
  },
  {
   "cell_type": "code",
   "execution_count": null,
   "id": "toxic-designation",
   "metadata": {},
   "outputs": [],
   "source": [
    "basic_model.cache[('spl', 'k_coef')]['metadata']"
   ]
  },
  {
   "cell_type": "code",
   "execution_count": null,
   "id": "split-board",
   "metadata": {},
   "outputs": [],
   "source": []
  }
 ],
 "metadata": {
  "kernelspec": {
   "display_name": "Python 3",
   "language": "python",
   "name": "python3"
  },
  "language_info": {
   "codemirror_mode": {
    "name": "ipython",
    "version": 3
   },
   "file_extension": ".py",
   "mimetype": "text/x-python",
   "name": "python",
   "nbconvert_exporter": "python",
   "pygments_lexer": "ipython3",
   "version": "3.8.6"
  }
 },
 "nbformat": 4,
 "nbformat_minor": 5
}
