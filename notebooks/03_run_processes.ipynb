{
 "cells": [
  {
   "cell_type": "markdown",
   "id": "heard-planning",
   "metadata": {},
   "source": [
    "# Xarray-simlab: execute individual processes\n",
    "\n",
    "Xarray-simlab is a lightweight, non-invasive framework that let users run code (processes) without using the framework.\n",
    "\n",
    "We'll see here how to execute some processes individually without running any simulation, which is useful for exploring or testing the behavior of those processes, and certainly much easier than debugging it when being part of a whole model."
   ]
  },
  {
   "cell_type": "code",
   "execution_count": null,
   "id": "official-spirituality",
   "metadata": {},
   "outputs": [],
   "source": [
    "import matplotlib.pyplot as plt\n",
    "import numpy as np\n",
    "import xsimlab as xs\n",
    "\n",
    "%matplotlib inline"
   ]
  },
  {
   "cell_type": "markdown",
   "id": "headed-blank",
   "metadata": {},
   "source": [
    "Let's import a simple process from fastscape"
   ]
  },
  {
   "cell_type": "code",
   "execution_count": null,
   "id": "reflected-wichita",
   "metadata": {},
   "outputs": [],
   "source": [
    "from fastscape.processes import Escarpment"
   ]
  },
  {
   "cell_type": "code",
   "execution_count": null,
   "id": "quality-agriculture",
   "metadata": {},
   "outputs": [],
   "source": [
    "xs.process_info(Escarpment)"
   ]
  },
  {
   "cell_type": "markdown",
   "id": "polished-surgery",
   "metadata": {},
   "source": [
    "Like any other process, `Escarpment` is a regular Python class that can be used as usual.\n",
    "\n",
    "For example, we can create an instance of this class. All input variables (i.e., intent='in'), even foreign variables, are exposed as arguments of the constructor (i.e., `__init__` method). Unless a default value is defined for those variables, an input value is required. In the case of `Escarpment`, we need to provide values for the grid variables."
   ]
  },
  {
   "cell_type": "code",
   "execution_count": null,
   "id": "professional-variable",
   "metadata": {},
   "outputs": [],
   "source": [
    "Escarpment?"
   ]
  },
  {
   "cell_type": "code",
   "execution_count": null,
   "id": "intelligent-brand",
   "metadata": {},
   "outputs": [],
   "source": [
    "scarp = Escarpment(\n",
    "    x_left=1e2,\n",
    "    x_right=1e2,\n",
    "    elevation_left=0.,\n",
    "    elevation_right=5e2,\n",
    "    shape=(200, 200),\n",
    "    x = np.linspace(0., 2e2, 200)\n",
    ")"
   ]
  },
  {
   "cell_type": "markdown",
   "id": "searching-latex",
   "metadata": {},
   "source": [
    "We can then mimic a simulation stage run, just by calling the corresponding method the instance created, e.g.,"
   ]
  },
  {
   "cell_type": "code",
   "execution_count": null,
   "id": "fixed-transportation",
   "metadata": {},
   "outputs": [],
   "source": [
    "scarp.initialize()"
   ]
  },
  {
   "cell_type": "markdown",
   "id": "political-structure",
   "metadata": {},
   "source": [
    "If the process compute a value during this simulation stage (for an output variable, i.e., intent='in' or intent='inout'), we can access that value simply by getting the corresponding attribute, e.g.,  "
   ]
  },
  {
   "cell_type": "code",
   "execution_count": null,
   "id": "tamil-namibia",
   "metadata": {},
   "outputs": [],
   "source": [
    "scarp.elevation"
   ]
  },
  {
   "cell_type": "code",
   "execution_count": null,
   "id": "diverse-actor",
   "metadata": {},
   "outputs": [],
   "source": [
    "plt.imshow(scarp.elevation);"
   ]
  },
  {
   "cell_type": "markdown",
   "id": "stretch-breed",
   "metadata": {},
   "source": [
    "## Exercise: explore the orographic precipitation process"
   ]
  },
  {
   "cell_type": "code",
   "execution_count": null,
   "id": "regional-sarah",
   "metadata": {},
   "outputs": [],
   "source": [
    "from orographic_precipitation.fastscape_ext import OrographicPrecipitation"
   ]
  },
  {
   "cell_type": "code",
   "execution_count": null,
   "id": "brilliant-charity",
   "metadata": {},
   "outputs": [],
   "source": []
  }
 ],
 "metadata": {
  "kernelspec": {
   "display_name": "Python 3",
   "language": "python",
   "name": "python3"
  },
  "language_info": {
   "codemirror_mode": {
    "name": "ipython",
    "version": 3
   },
   "file_extension": ".py",
   "mimetype": "text/x-python",
   "name": "python",
   "nbconvert_exporter": "python",
   "pygments_lexer": "ipython3",
   "version": "3.8.6"
  }
 },
 "nbformat": 4,
 "nbformat_minor": 5
}
