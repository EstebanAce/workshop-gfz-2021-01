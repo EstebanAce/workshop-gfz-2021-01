{
 "cells": [
  {
   "cell_type": "markdown",
   "id": "bottom-quantum",
   "metadata": {},
   "source": [
    "# Xarray-simlab: customize models\n",
    "\n",
    "Xarray-simlab is a modular framework. The motivation behind this framework is to enable an interactive user experience for *both* model exploration (inspection, run) *and* model customization. \n",
    "\n",
    "We'll see here how we can customize xarray-simlab models by adding, dropping or replacing some processes (with other available processes)."
   ]
  },
  {
   "cell_type": "code",
   "execution_count": null,
   "id": "general-battle",
   "metadata": {},
   "outputs": [],
   "source": [
    "import xsimlab as xs"
   ]
  },
  {
   "cell_type": "markdown",
   "id": "assumed-purpose",
   "metadata": {},
   "source": [
    "## Fastscape basic model\n",
    "\n",
    "As an example, let's first import a model from fastscape"
   ]
  },
  {
   "cell_type": "code",
   "execution_count": null,
   "id": "peripheral-removal",
   "metadata": {},
   "outputs": [],
   "source": [
    "from fastscape.models import basic_model"
   ]
  },
  {
   "cell_type": "markdown",
   "id": "brief-bikini",
   "metadata": {},
   "source": [
    "This basic model simulates the evolution of the topographic surface under the action of tectonic processes (vertical uplift) and erosion processes (bedrock channel SPL, hillslope diffusion).\n",
    "\n",
    "Let's visualize the model"
   ]
  },
  {
   "cell_type": "code",
   "execution_count": null,
   "id": "western-petersburg",
   "metadata": {},
   "outputs": [],
   "source": [
    "basic_model.visualize(show_inputs=True)"
   ]
  },
  {
   "cell_type": "markdown",
   "id": "decimal-celtic",
   "metadata": {},
   "source": [
    "SPL's drainage area is calculated by computing convergent flow paths (single flow direction). The `SingleFlowRouter` process is used:"
   ]
  },
  {
   "cell_type": "code",
   "execution_count": null,
   "id": "blond-springer",
   "metadata": {},
   "outputs": [],
   "source": [
    "basic_model.flow"
   ]
  },
  {
   "cell_type": "markdown",
   "id": "deluxe-montreal",
   "metadata": {},
   "source": [
    "## Yes but I want divergent flow paths\n",
    "\n",
    "Fortunately, fastscape provides a process for that: `MultipleFlowRouter`"
   ]
  },
  {
   "cell_type": "code",
   "execution_count": null,
   "id": "joined-jones",
   "metadata": {},
   "outputs": [],
   "source": [
    "from fastscape.processes import MultipleFlowRouter"
   ]
  },
  {
   "cell_type": "markdown",
   "id": "committed-acrobat",
   "metadata": {},
   "source": [
    "To use it instead of `SingleFlowRouter`, just update the processes:"
   ]
  },
  {
   "cell_type": "code",
   "execution_count": null,
   "id": "paperback-horizon",
   "metadata": {},
   "outputs": [],
   "source": [
    "mfd_model = basic_model.update_processes({'flow': MultipleFlowRouter})"
   ]
  },
  {
   "cell_type": "markdown",
   "id": "hundred-aurora",
   "metadata": {},
   "source": [
    "`mdf_model` is a new xarray-simlab model, built from `basic_model`.\n",
    "\n",
    "When xarray-simlab builds a new model, it re-scans the variables in the processes in order to re-build from scratch the graph of processes (+ sorting those processes) and determine the model input variables (fortunately, the whole operation is fast).\n",
    "\n",
    "If we compare `MultipleFlowRouter` with `SingleFlowRouter`, we can see that the former has an additional variable: the flow partition slope exponent (`slope_exp`):"
   ]
  },
  {
   "cell_type": "code",
   "execution_count": null,
   "id": "pleasant-fountain",
   "metadata": {},
   "outputs": [],
   "source": [
    "mfd_model.flow"
   ]
  },
  {
   "cell_type": "markdown",
   "id": "boxed-reward",
   "metadata": {},
   "source": [
    "This is an input parameters, that is a new model input (we can see it in the graph below, while it is absent in the graph above):"
   ]
  },
  {
   "cell_type": "code",
   "execution_count": null,
   "id": "complimentary-clothing",
   "metadata": {},
   "outputs": [],
   "source": [
    "mfd_model.visualize(show_inputs=True)"
   ]
  },
  {
   "cell_type": "markdown",
   "id": "neural-building",
   "metadata": {},
   "source": [
    "## Ok, but I'd like to simulate the erosion of an escarpement (no uplift), with channel transport/deposition and with differential erosion (rock vs. sediment layer)\n",
    "\n",
    "Right, fastscape provides more processes. Note that it is also possible to simply drop processes."
   ]
  },
  {
   "cell_type": "code",
   "execution_count": null,
   "id": "signal-banking",
   "metadata": {},
   "outputs": [],
   "source": [
    "from fastscape.processes import (\n",
    "    Bedrock,\n",
    "    BareRockSurface,\n",
    "    DifferentialLinearDiffusion,\n",
    "    DifferentialStreamPowerChannelTD,\n",
    "    Escarpment,\n",
    "    UniformSedimentLayer,\n",
    ")\n",
    "\n",
    "\n",
    "escarpment_model = (\n",
    "    mfd_model\n",
    "    .drop_processes('uplift')\n",
    "    .update_processes({\n",
    "        'init_topography': Escarpment,\n",
    "        'bedrock': Bedrock,\n",
    "        'active_layer': UniformSedimentLayer,\n",
    "        'init_bedrock': BareRockSurface,\n",
    "        'flow': MultipleFlowRouter,\n",
    "        'spl': DifferentialStreamPowerChannelTD,\n",
    "        'diffusion': DifferentialLinearDiffusion\n",
    "    })\n",
    ")"
   ]
  },
  {
   "cell_type": "code",
   "execution_count": null,
   "id": "ignored-teddy",
   "metadata": {},
   "outputs": [],
   "source": [
    "escarpment_model.visualize(show_inputs=True)"
   ]
  },
  {
   "cell_type": "markdown",
   "id": "korean-effectiveness",
   "metadata": {},
   "source": [
    "## Orographic precipitation, please?\n",
    "\n",
    "Alright, the fastscape package itself doesn't provide any built-in process for that. However, nothing prevents implementing extensions in thrid-party packages, like the `orographic_precipitation` package developped by Raphael Lange (https://github.com/fastscape-lem/orographic-precipitation)."
   ]
  },
  {
   "cell_type": "code",
   "execution_count": null,
   "id": "toxic-laptop",
   "metadata": {},
   "outputs": [],
   "source": [
    "from orographic_precipitation.fastscape_ext import (\n",
    "    OrographicPrecipitation,\n",
    "    OrographicDrainageDischarge\n",
    ")"
   ]
  },
  {
   "cell_type": "markdown",
   "id": "spoken-firmware",
   "metadata": {},
   "source": [
    "There's a process for computing the topographic-dependent precipitation rate"
   ]
  },
  {
   "cell_type": "code",
   "execution_count": null,
   "id": "subject-spanish",
   "metadata": {},
   "outputs": [],
   "source": [
    "xs.process_info(OrographicPrecipitation)"
   ]
  },
  {
   "cell_type": "markdown",
   "id": "tamil-underground",
   "metadata": {},
   "source": [
    "And another process to compute water discharge (that would replace drainage area)"
   ]
  },
  {
   "cell_type": "code",
   "execution_count": null,
   "id": "gentle-minnesota",
   "metadata": {},
   "outputs": [],
   "source": [
    "xs.process_info(OrographicDrainageDischarge)"
   ]
  },
  {
   "cell_type": "markdown",
   "id": "sized-excellence",
   "metadata": {},
   "source": [
    "Let's include this in the escarpment model"
   ]
  },
  {
   "cell_type": "code",
   "execution_count": null,
   "id": "physical-carolina",
   "metadata": {},
   "outputs": [],
   "source": [
    "precip_model = escarpment_model.update_processes({'precip': OrographicPrecipitation,\n",
    "                                                  'drainage': OrographicDrainageDischarge})"
   ]
  },
  {
   "cell_type": "code",
   "execution_count": null,
   "id": "editorial-trustee",
   "metadata": {},
   "outputs": [],
   "source": [
    "precip_model.visualize(show_inputs=True)"
   ]
  },
  {
   "cell_type": "markdown",
   "id": "dated-clinton",
   "metadata": {},
   "source": [
    "## What about rock layers?\n",
    "\n",
    "Sorry, to my knowledge there's no fastscape-compatible process for that yet. You'll need to write your own process (we'll see that later). We hope that in the future more and more researchers will share their processes (for example, a topographic driven life-evolution model extension should be available soon)."
   ]
  },
  {
   "cell_type": "markdown",
   "id": "british-print",
   "metadata": {},
   "source": [
    "## Fastscape model presets\n",
    "\n",
    "The fastscape Python package provides a few built-in models, which are built on top of each other, like shown here above.\n",
    "\n",
    "The core model object is the `bootstrap_model`: it doesn't implement any physical process but instead provides the skeleton of a fastscape model (grid, boundary conditions, topography, etc.):"
   ]
  },
  {
   "cell_type": "code",
   "execution_count": null,
   "id": "connected-anthropology",
   "metadata": {},
   "outputs": [],
   "source": [
    "from fastscape.models import bootstrap_model\n",
    "\n",
    "bootstrap_model.visualize(show_inputs=True)"
   ]
  },
  {
   "cell_type": "markdown",
   "id": "innocent-cursor",
   "metadata": {},
   "source": [
    "`basic_model` is built directly on top of that `bootstrap_model`.\n",
    "\n",
    "At the other end of the chain, the `marine_model` is the most complex one:"
   ]
  },
  {
   "cell_type": "code",
   "execution_count": null,
   "id": "liberal-african",
   "metadata": {},
   "outputs": [],
   "source": [
    "from fastscape.models import marine_model\n",
    "\n",
    "marine_model.visualize(show_inputs=True)"
   ]
  },
  {
   "cell_type": "code",
   "execution_count": null,
   "id": "extended-death",
   "metadata": {},
   "outputs": [],
   "source": []
  }
 ],
 "metadata": {
  "kernelspec": {
   "display_name": "Python 3",
   "language": "python",
   "name": "python3"
  },
  "language_info": {
   "codemirror_mode": {
    "name": "ipython",
    "version": 3
   },
   "file_extension": ".py",
   "mimetype": "text/x-python",
   "name": "python",
   "nbconvert_exporter": "python",
   "pygments_lexer": "ipython3",
   "version": "3.8.6"
  }
 },
 "nbformat": 4,
 "nbformat_minor": 5
}
